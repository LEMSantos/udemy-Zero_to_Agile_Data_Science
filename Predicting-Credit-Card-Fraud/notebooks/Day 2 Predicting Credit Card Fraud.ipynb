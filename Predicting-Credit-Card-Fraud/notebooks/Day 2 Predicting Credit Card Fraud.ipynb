{
 "cells": [
  {
   "cell_type": "markdown",
   "id": "7e31ce24-aa5e-492a-b412-27bd834713c9",
   "metadata": {},
   "source": [
    "# <span style=\"color: #8be9fd\">Initialization</span>"
   ]
  },
  {
   "cell_type": "markdown",
   "id": "6ce5f330-3288-45fa-9430-266b204e2c78",
   "metadata": {},
   "source": [
    "## <span style=\"color: #8be9fd\">Load Packages</span>"
   ]
  },
  {
   "cell_type": "code",
   "execution_count": 1,
   "id": "b088a8f5-685e-4ff4-909b-728ddc908d14",
   "metadata": {},
   "outputs": [],
   "source": [
    "import pandas as pd\n",
    "import numpy as np\n",
    "\n",
    "import matplotlib.pyplot as plt\n",
    "%matplotlib inline\n",
    "\n",
    "import warnings\n",
    "warnings.filterwarnings('ignore')\n",
    "\n",
    "from dotenv import load_dotenv\n",
    "load_dotenv()\n",
    "\n",
    "import os\n",
    "\n",
    "import sys\n",
    "sys.path.append(os.environ.get('PROJECT_PATH'))"
   ]
  },
  {
   "cell_type": "markdown",
   "id": "c2e02890-3b5e-4225-add7-3322c337d769",
   "metadata": {},
   "source": [
    "## <span style=\"color: #8be9fd\">Define Metadata</span>"
   ]
  },
  {
   "cell_type": "code",
   "execution_count": 2,
   "id": "4cf1d74b-e903-40f7-b84b-e8c7fece0533",
   "metadata": {},
   "outputs": [],
   "source": [
    "from datetime import date\n",
    "\n",
    "target_class_name = 'Class'\n",
    "labels = ['Non-Fraud', 'Fraud']\n",
    "input_file_name = 'creditcard.csv'\n",
    "intermediate_data_path = '../data/intermediate/'\n",
    "output_df_file_name = 'day2_cleaned_df_output_'\n",
    "export_date = str(date.today().strftime('%Y%m%d'))"
   ]
  },
  {
   "cell_type": "markdown",
   "id": "01ed8700-9ef2-4dfc-9f34-38052d52c918",
   "metadata": {},
   "source": [
    "# <span style=\"color: #8be9fd\">Load Data</span>"
   ]
  },
  {
   "cell_type": "code",
   "execution_count": 3,
   "id": "e5b679ad-1be3-4b23-b274-b20826bebd19",
   "metadata": {},
   "outputs": [
    {
     "name": "stdout",
     "output_type": "stream",
     "text": [
      "(284807, 31)\n"
     ]
    },
    {
     "data": {
      "text/html": [
       "<div>\n",
       "<style scoped>\n",
       "    .dataframe tbody tr th:only-of-type {\n",
       "        vertical-align: middle;\n",
       "    }\n",
       "\n",
       "    .dataframe tbody tr th {\n",
       "        vertical-align: top;\n",
       "    }\n",
       "\n",
       "    .dataframe thead th {\n",
       "        text-align: right;\n",
       "    }\n",
       "</style>\n",
       "<table border=\"1\" class=\"dataframe\">\n",
       "  <thead>\n",
       "    <tr style=\"text-align: right;\">\n",
       "      <th></th>\n",
       "      <th>Time</th>\n",
       "      <th>V1</th>\n",
       "      <th>V2</th>\n",
       "      <th>V3</th>\n",
       "      <th>V4</th>\n",
       "      <th>V5</th>\n",
       "      <th>V6</th>\n",
       "      <th>V7</th>\n",
       "      <th>V8</th>\n",
       "      <th>V9</th>\n",
       "      <th>...</th>\n",
       "      <th>V21</th>\n",
       "      <th>V22</th>\n",
       "      <th>V23</th>\n",
       "      <th>V24</th>\n",
       "      <th>V25</th>\n",
       "      <th>V26</th>\n",
       "      <th>V27</th>\n",
       "      <th>V28</th>\n",
       "      <th>Amount</th>\n",
       "      <th>Class</th>\n",
       "    </tr>\n",
       "  </thead>\n",
       "  <tbody>\n",
       "    <tr>\n",
       "      <th>217551</th>\n",
       "      <td>140934.0</td>\n",
       "      <td>-3.490948</td>\n",
       "      <td>1.969030</td>\n",
       "      <td>1.208061</td>\n",
       "      <td>1.121673</td>\n",
       "      <td>-2.057447</td>\n",
       "      <td>0.556366</td>\n",
       "      <td>-1.693499</td>\n",
       "      <td>1.900619</td>\n",
       "      <td>1.281566</td>\n",
       "      <td>...</td>\n",
       "      <td>0.070733</td>\n",
       "      <td>0.793528</td>\n",
       "      <td>-0.097075</td>\n",
       "      <td>-0.000896</td>\n",
       "      <td>0.788487</td>\n",
       "      <td>-0.206509</td>\n",
       "      <td>0.034209</td>\n",
       "      <td>-0.135932</td>\n",
       "      <td>19.99</td>\n",
       "      <td>0</td>\n",
       "    </tr>\n",
       "    <tr>\n",
       "      <th>233094</th>\n",
       "      <td>147437.0</td>\n",
       "      <td>-0.252913</td>\n",
       "      <td>0.739525</td>\n",
       "      <td>-1.491578</td>\n",
       "      <td>-1.565861</td>\n",
       "      <td>0.761827</td>\n",
       "      <td>-1.285801</td>\n",
       "      <td>1.360073</td>\n",
       "      <td>-0.416580</td>\n",
       "      <td>-1.709309</td>\n",
       "      <td>...</td>\n",
       "      <td>0.055185</td>\n",
       "      <td>0.666240</td>\n",
       "      <td>-0.218662</td>\n",
       "      <td>0.794982</td>\n",
       "      <td>-0.407734</td>\n",
       "      <td>0.751106</td>\n",
       "      <td>-0.428439</td>\n",
       "      <td>-0.078688</td>\n",
       "      <td>33.00</td>\n",
       "      <td>0</td>\n",
       "    </tr>\n",
       "    <tr>\n",
       "      <th>616</th>\n",
       "      <td>464.0</td>\n",
       "      <td>1.157235</td>\n",
       "      <td>0.138019</td>\n",
       "      <td>0.384987</td>\n",
       "      <td>1.403600</td>\n",
       "      <td>-0.222512</td>\n",
       "      <td>-0.197943</td>\n",
       "      <td>0.018264</td>\n",
       "      <td>0.029727</td>\n",
       "      <td>0.412466</td>\n",
       "      <td>...</td>\n",
       "      <td>-0.108900</td>\n",
       "      <td>-0.124281</td>\n",
       "      <td>-0.055454</td>\n",
       "      <td>0.072990</td>\n",
       "      <td>0.634638</td>\n",
       "      <td>-0.310493</td>\n",
       "      <td>0.033931</td>\n",
       "      <td>0.014937</td>\n",
       "      <td>11.99</td>\n",
       "      <td>0</td>\n",
       "    </tr>\n",
       "    <tr>\n",
       "      <th>204581</th>\n",
       "      <td>135342.0</td>\n",
       "      <td>-0.353236</td>\n",
       "      <td>-0.401812</td>\n",
       "      <td>-1.609000</td>\n",
       "      <td>-0.378384</td>\n",
       "      <td>3.205696</td>\n",
       "      <td>0.109471</td>\n",
       "      <td>0.685046</td>\n",
       "      <td>0.164355</td>\n",
       "      <td>-0.782429</td>\n",
       "      <td>...</td>\n",
       "      <td>0.575993</td>\n",
       "      <td>1.544485</td>\n",
       "      <td>-0.076511</td>\n",
       "      <td>-0.580596</td>\n",
       "      <td>0.354954</td>\n",
       "      <td>0.171326</td>\n",
       "      <td>-0.050425</td>\n",
       "      <td>-0.067777</td>\n",
       "      <td>28.40</td>\n",
       "      <td>0</td>\n",
       "    </tr>\n",
       "    <tr>\n",
       "      <th>13057</th>\n",
       "      <td>22917.0</td>\n",
       "      <td>-1.733688</td>\n",
       "      <td>0.012999</td>\n",
       "      <td>2.402611</td>\n",
       "      <td>-0.570835</td>\n",
       "      <td>1.335929</td>\n",
       "      <td>-1.531991</td>\n",
       "      <td>0.258900</td>\n",
       "      <td>-0.050404</td>\n",
       "      <td>0.662983</td>\n",
       "      <td>...</td>\n",
       "      <td>-0.195260</td>\n",
       "      <td>-0.740797</td>\n",
       "      <td>0.114578</td>\n",
       "      <td>0.536847</td>\n",
       "      <td>0.272180</td>\n",
       "      <td>-0.193600</td>\n",
       "      <td>-0.088849</td>\n",
       "      <td>0.070787</td>\n",
       "      <td>11.99</td>\n",
       "      <td>0</td>\n",
       "    </tr>\n",
       "  </tbody>\n",
       "</table>\n",
       "<p>5 rows × 31 columns</p>\n",
       "</div>"
      ],
      "text/plain": [
       "            Time        V1        V2        V3        V4        V5        V6  \\\n",
       "217551  140934.0 -3.490948  1.969030  1.208061  1.121673 -2.057447  0.556366   \n",
       "233094  147437.0 -0.252913  0.739525 -1.491578 -1.565861  0.761827 -1.285801   \n",
       "616        464.0  1.157235  0.138019  0.384987  1.403600 -0.222512 -0.197943   \n",
       "204581  135342.0 -0.353236 -0.401812 -1.609000 -0.378384  3.205696  0.109471   \n",
       "13057    22917.0 -1.733688  0.012999  2.402611 -0.570835  1.335929 -1.531991   \n",
       "\n",
       "              V7        V8        V9  ...       V21       V22       V23  \\\n",
       "217551 -1.693499  1.900619  1.281566  ...  0.070733  0.793528 -0.097075   \n",
       "233094  1.360073 -0.416580 -1.709309  ...  0.055185  0.666240 -0.218662   \n",
       "616     0.018264  0.029727  0.412466  ... -0.108900 -0.124281 -0.055454   \n",
       "204581  0.685046  0.164355 -0.782429  ...  0.575993  1.544485 -0.076511   \n",
       "13057   0.258900 -0.050404  0.662983  ... -0.195260 -0.740797  0.114578   \n",
       "\n",
       "             V24       V25       V26       V27       V28  Amount  Class  \n",
       "217551 -0.000896  0.788487 -0.206509  0.034209 -0.135932   19.99      0  \n",
       "233094  0.794982 -0.407734  0.751106 -0.428439 -0.078688   33.00      0  \n",
       "616     0.072990  0.634638 -0.310493  0.033931  0.014937   11.99      0  \n",
       "204581 -0.580596  0.354954  0.171326 -0.050425 -0.067777   28.40      0  \n",
       "13057   0.536847  0.272180 -0.193600 -0.088849  0.070787   11.99      0  \n",
       "\n",
       "[5 rows x 31 columns]"
      ]
     },
     "execution_count": 3,
     "metadata": {},
     "output_type": "execute_result"
    }
   ],
   "source": [
    "df = pd.read_csv(f'../data/raw/{input_file_name}')\n",
    "print(df.shape)\n",
    "df.sample(5)"
   ]
  },
  {
   "cell_type": "code",
   "execution_count": 4,
   "id": "18686a02-c5e1-496c-ae88-223029271df5",
   "metadata": {},
   "outputs": [
    {
     "data": {
      "text/html": [
       "<div>\n",
       "<style scoped>\n",
       "    .dataframe tbody tr th:only-of-type {\n",
       "        vertical-align: middle;\n",
       "    }\n",
       "\n",
       "    .dataframe tbody tr th {\n",
       "        vertical-align: top;\n",
       "    }\n",
       "\n",
       "    .dataframe thead th {\n",
       "        text-align: right;\n",
       "    }\n",
       "</style>\n",
       "<table border=\"1\" class=\"dataframe\">\n",
       "  <thead>\n",
       "    <tr style=\"text-align: right;\">\n",
       "      <th></th>\n",
       "      <th>Time</th>\n",
       "      <th>V1</th>\n",
       "      <th>V2</th>\n",
       "      <th>V3</th>\n",
       "      <th>V4</th>\n",
       "      <th>V5</th>\n",
       "      <th>V6</th>\n",
       "      <th>V7</th>\n",
       "      <th>V8</th>\n",
       "      <th>V9</th>\n",
       "      <th>...</th>\n",
       "      <th>V21</th>\n",
       "      <th>V22</th>\n",
       "      <th>V23</th>\n",
       "      <th>V24</th>\n",
       "      <th>V25</th>\n",
       "      <th>V26</th>\n",
       "      <th>V27</th>\n",
       "      <th>V28</th>\n",
       "      <th>Amount</th>\n",
       "      <th>Class</th>\n",
       "    </tr>\n",
       "  </thead>\n",
       "  <tbody>\n",
       "    <tr>\n",
       "      <th>0</th>\n",
       "      <td>0.0</td>\n",
       "      <td>-1.359807</td>\n",
       "      <td>-0.072781</td>\n",
       "      <td>2.536347</td>\n",
       "      <td>1.378155</td>\n",
       "      <td>-0.338321</td>\n",
       "      <td>0.462388</td>\n",
       "      <td>0.239599</td>\n",
       "      <td>0.098698</td>\n",
       "      <td>0.363787</td>\n",
       "      <td>...</td>\n",
       "      <td>-0.018307</td>\n",
       "      <td>0.277838</td>\n",
       "      <td>-0.110474</td>\n",
       "      <td>0.066928</td>\n",
       "      <td>0.128539</td>\n",
       "      <td>-0.189115</td>\n",
       "      <td>0.133558</td>\n",
       "      <td>-0.021053</td>\n",
       "      <td>149.62</td>\n",
       "      <td>0</td>\n",
       "    </tr>\n",
       "    <tr>\n",
       "      <th>1</th>\n",
       "      <td>0.0</td>\n",
       "      <td>1.191857</td>\n",
       "      <td>0.266151</td>\n",
       "      <td>0.166480</td>\n",
       "      <td>0.448154</td>\n",
       "      <td>0.060018</td>\n",
       "      <td>-0.082361</td>\n",
       "      <td>-0.078803</td>\n",
       "      <td>0.085102</td>\n",
       "      <td>-0.255425</td>\n",
       "      <td>...</td>\n",
       "      <td>-0.225775</td>\n",
       "      <td>-0.638672</td>\n",
       "      <td>0.101288</td>\n",
       "      <td>-0.339846</td>\n",
       "      <td>0.167170</td>\n",
       "      <td>0.125895</td>\n",
       "      <td>-0.008983</td>\n",
       "      <td>0.014724</td>\n",
       "      <td>2.69</td>\n",
       "      <td>0</td>\n",
       "    </tr>\n",
       "    <tr>\n",
       "      <th>2</th>\n",
       "      <td>1.0</td>\n",
       "      <td>-1.358354</td>\n",
       "      <td>-1.340163</td>\n",
       "      <td>1.773209</td>\n",
       "      <td>0.379780</td>\n",
       "      <td>-0.503198</td>\n",
       "      <td>1.800499</td>\n",
       "      <td>0.791461</td>\n",
       "      <td>0.247676</td>\n",
       "      <td>-1.514654</td>\n",
       "      <td>...</td>\n",
       "      <td>0.247998</td>\n",
       "      <td>0.771679</td>\n",
       "      <td>0.909412</td>\n",
       "      <td>-0.689281</td>\n",
       "      <td>-0.327642</td>\n",
       "      <td>-0.139097</td>\n",
       "      <td>-0.055353</td>\n",
       "      <td>-0.059752</td>\n",
       "      <td>378.66</td>\n",
       "      <td>0</td>\n",
       "    </tr>\n",
       "  </tbody>\n",
       "</table>\n",
       "<p>3 rows × 31 columns</p>\n",
       "</div>"
      ],
      "text/plain": [
       "   Time        V1        V2        V3        V4        V5        V6        V7  \\\n",
       "0   0.0 -1.359807 -0.072781  2.536347  1.378155 -0.338321  0.462388  0.239599   \n",
       "1   0.0  1.191857  0.266151  0.166480  0.448154  0.060018 -0.082361 -0.078803   \n",
       "2   1.0 -1.358354 -1.340163  1.773209  0.379780 -0.503198  1.800499  0.791461   \n",
       "\n",
       "         V8        V9  ...       V21       V22       V23       V24       V25  \\\n",
       "0  0.098698  0.363787  ... -0.018307  0.277838 -0.110474  0.066928  0.128539   \n",
       "1  0.085102 -0.255425  ... -0.225775 -0.638672  0.101288 -0.339846  0.167170   \n",
       "2  0.247676 -1.514654  ...  0.247998  0.771679  0.909412 -0.689281 -0.327642   \n",
       "\n",
       "        V26       V27       V28  Amount  Class  \n",
       "0 -0.189115  0.133558 -0.021053  149.62      0  \n",
       "1  0.125895 -0.008983  0.014724    2.69      0  \n",
       "2 -0.139097 -0.055353 -0.059752  378.66      0  \n",
       "\n",
       "[3 rows x 31 columns]"
      ]
     },
     "execution_count": 4,
     "metadata": {},
     "output_type": "execute_result"
    }
   ],
   "source": [
    "df.head(3)"
   ]
  },
  {
   "cell_type": "code",
   "execution_count": 5,
   "id": "abe6a094-2bbd-4989-995a-70bce71fa1d4",
   "metadata": {},
   "outputs": [
    {
     "data": {
      "text/html": [
       "<div>\n",
       "<style scoped>\n",
       "    .dataframe tbody tr th:only-of-type {\n",
       "        vertical-align: middle;\n",
       "    }\n",
       "\n",
       "    .dataframe tbody tr th {\n",
       "        vertical-align: top;\n",
       "    }\n",
       "\n",
       "    .dataframe thead th {\n",
       "        text-align: right;\n",
       "    }\n",
       "</style>\n",
       "<table border=\"1\" class=\"dataframe\">\n",
       "  <thead>\n",
       "    <tr style=\"text-align: right;\">\n",
       "      <th></th>\n",
       "      <th>Time</th>\n",
       "      <th>V1</th>\n",
       "      <th>V2</th>\n",
       "      <th>V3</th>\n",
       "      <th>V4</th>\n",
       "      <th>V5</th>\n",
       "      <th>V6</th>\n",
       "      <th>V7</th>\n",
       "      <th>V8</th>\n",
       "      <th>V9</th>\n",
       "      <th>...</th>\n",
       "      <th>V21</th>\n",
       "      <th>V22</th>\n",
       "      <th>V23</th>\n",
       "      <th>V24</th>\n",
       "      <th>V25</th>\n",
       "      <th>V26</th>\n",
       "      <th>V27</th>\n",
       "      <th>V28</th>\n",
       "      <th>Amount</th>\n",
       "      <th>Class</th>\n",
       "    </tr>\n",
       "  </thead>\n",
       "  <tbody>\n",
       "    <tr>\n",
       "      <th>284804</th>\n",
       "      <td>172788.0</td>\n",
       "      <td>1.919565</td>\n",
       "      <td>-0.301254</td>\n",
       "      <td>-3.249640</td>\n",
       "      <td>-0.557828</td>\n",
       "      <td>2.630515</td>\n",
       "      <td>3.031260</td>\n",
       "      <td>-0.296827</td>\n",
       "      <td>0.708417</td>\n",
       "      <td>0.432454</td>\n",
       "      <td>...</td>\n",
       "      <td>0.232045</td>\n",
       "      <td>0.578229</td>\n",
       "      <td>-0.037501</td>\n",
       "      <td>0.640134</td>\n",
       "      <td>0.265745</td>\n",
       "      <td>-0.087371</td>\n",
       "      <td>0.004455</td>\n",
       "      <td>-0.026561</td>\n",
       "      <td>67.88</td>\n",
       "      <td>0</td>\n",
       "    </tr>\n",
       "    <tr>\n",
       "      <th>284805</th>\n",
       "      <td>172788.0</td>\n",
       "      <td>-0.240440</td>\n",
       "      <td>0.530483</td>\n",
       "      <td>0.702510</td>\n",
       "      <td>0.689799</td>\n",
       "      <td>-0.377961</td>\n",
       "      <td>0.623708</td>\n",
       "      <td>-0.686180</td>\n",
       "      <td>0.679145</td>\n",
       "      <td>0.392087</td>\n",
       "      <td>...</td>\n",
       "      <td>0.265245</td>\n",
       "      <td>0.800049</td>\n",
       "      <td>-0.163298</td>\n",
       "      <td>0.123205</td>\n",
       "      <td>-0.569159</td>\n",
       "      <td>0.546668</td>\n",
       "      <td>0.108821</td>\n",
       "      <td>0.104533</td>\n",
       "      <td>10.00</td>\n",
       "      <td>0</td>\n",
       "    </tr>\n",
       "    <tr>\n",
       "      <th>284806</th>\n",
       "      <td>172792.0</td>\n",
       "      <td>-0.533413</td>\n",
       "      <td>-0.189733</td>\n",
       "      <td>0.703337</td>\n",
       "      <td>-0.506271</td>\n",
       "      <td>-0.012546</td>\n",
       "      <td>-0.649617</td>\n",
       "      <td>1.577006</td>\n",
       "      <td>-0.414650</td>\n",
       "      <td>0.486180</td>\n",
       "      <td>...</td>\n",
       "      <td>0.261057</td>\n",
       "      <td>0.643078</td>\n",
       "      <td>0.376777</td>\n",
       "      <td>0.008797</td>\n",
       "      <td>-0.473649</td>\n",
       "      <td>-0.818267</td>\n",
       "      <td>-0.002415</td>\n",
       "      <td>0.013649</td>\n",
       "      <td>217.00</td>\n",
       "      <td>0</td>\n",
       "    </tr>\n",
       "  </tbody>\n",
       "</table>\n",
       "<p>3 rows × 31 columns</p>\n",
       "</div>"
      ],
      "text/plain": [
       "            Time        V1        V2        V3        V4        V5        V6  \\\n",
       "284804  172788.0  1.919565 -0.301254 -3.249640 -0.557828  2.630515  3.031260   \n",
       "284805  172788.0 -0.240440  0.530483  0.702510  0.689799 -0.377961  0.623708   \n",
       "284806  172792.0 -0.533413 -0.189733  0.703337 -0.506271 -0.012546 -0.649617   \n",
       "\n",
       "              V7        V8        V9  ...       V21       V22       V23  \\\n",
       "284804 -0.296827  0.708417  0.432454  ...  0.232045  0.578229 -0.037501   \n",
       "284805 -0.686180  0.679145  0.392087  ...  0.265245  0.800049 -0.163298   \n",
       "284806  1.577006 -0.414650  0.486180  ...  0.261057  0.643078  0.376777   \n",
       "\n",
       "             V24       V25       V26       V27       V28  Amount  Class  \n",
       "284804  0.640134  0.265745 -0.087371  0.004455 -0.026561   67.88      0  \n",
       "284805  0.123205 -0.569159  0.546668  0.108821  0.104533   10.00      0  \n",
       "284806  0.008797 -0.473649 -0.818267 -0.002415  0.013649  217.00      0  \n",
       "\n",
       "[3 rows x 31 columns]"
      ]
     },
     "execution_count": 5,
     "metadata": {},
     "output_type": "execute_result"
    }
   ],
   "source": [
    "df.tail(3)"
   ]
  },
  {
   "cell_type": "markdown",
   "id": "e3ea6a5b-f544-41ef-8d38-eddbe9d57173",
   "metadata": {},
   "source": [
    "# <span style=\"color: #8be9fd\">Prepping before resampling</span>"
   ]
  },
  {
   "cell_type": "markdown",
   "id": "b32601bb-d46f-43ee-8290-1250be9b54cf",
   "metadata": {},
   "source": [
    "## <span style=\"color: #8be9fd\">Feature Target and Train Test Split</span>"
   ]
  },
  {
   "cell_type": "code",
   "execution_count": 6,
   "id": "f0221706-c573-4376-9444-f16dbf6c6bfd",
   "metadata": {},
   "outputs": [
    {
     "name": "stdout",
     "output_type": "stream",
     "text": [
      "(227845, 30) (56962, 30) 394 98\n"
     ]
    }
   ],
   "source": [
    "X = df.drop(target_class_name, axis=1)\n",
    "Y = df[target_class_name]\n",
    "\n",
    "from sklearn.model_selection import train_test_split\n",
    "X_train, X_test, Y_train, Y_test = train_test_split(X, Y, test_size=0.2, stratify=Y, random_state=42)\n",
    "\n",
    "print(X_train.shape, X_test.shape, sum(Y_train), sum(Y_test))"
   ]
  },
  {
   "cell_type": "markdown",
   "id": "d0f83e01-e28b-4699-9a7e-7bfd333afd65",
   "metadata": {},
   "source": [
    "## <span style=\"color: #8be9fd\">Initializing Metrics Capture</span>"
   ]
  },
  {
   "cell_type": "code",
   "execution_count": 7,
   "id": "c41c74c8-a396-42dd-9852-76af1b7ed320",
   "metadata": {},
   "outputs": [
    {
     "data": {
      "text/html": [
       "<div>\n",
       "<style scoped>\n",
       "    .dataframe tbody tr th:only-of-type {\n",
       "        vertical-align: middle;\n",
       "    }\n",
       "\n",
       "    .dataframe tbody tr th {\n",
       "        vertical-align: top;\n",
       "    }\n",
       "\n",
       "    .dataframe thead th {\n",
       "        text-align: right;\n",
       "    }\n",
       "</style>\n",
       "<table border=\"1\" class=\"dataframe\">\n",
       "  <thead>\n",
       "    <tr style=\"text-align: right;\">\n",
       "      <th></th>\n",
       "      <th>Pos_Precision</th>\n",
       "      <th>Pos_Recall</th>\n",
       "      <th>Pos_F1</th>\n",
       "      <th>ROC AUC</th>\n",
       "      <th>FN</th>\n",
       "      <th>TP</th>\n",
       "      <th>FP</th>\n",
       "      <th>TN</th>\n",
       "      <th>Precision_at_Recall</th>\n",
       "    </tr>\n",
       "  </thead>\n",
       "  <tbody>\n",
       "    <tr>\n",
       "      <th>Undersampling</th>\n",
       "      <td>NaN</td>\n",
       "      <td>NaN</td>\n",
       "      <td>NaN</td>\n",
       "      <td>NaN</td>\n",
       "      <td>NaN</td>\n",
       "      <td>NaN</td>\n",
       "      <td>NaN</td>\n",
       "      <td>NaN</td>\n",
       "      <td>NaN</td>\n",
       "    </tr>\n",
       "    <tr>\n",
       "      <th>Oversampling</th>\n",
       "      <td>NaN</td>\n",
       "      <td>NaN</td>\n",
       "      <td>NaN</td>\n",
       "      <td>NaN</td>\n",
       "      <td>NaN</td>\n",
       "      <td>NaN</td>\n",
       "      <td>NaN</td>\n",
       "      <td>NaN</td>\n",
       "      <td>NaN</td>\n",
       "    </tr>\n",
       "    <tr>\n",
       "      <th>Hybrid</th>\n",
       "      <td>NaN</td>\n",
       "      <td>NaN</td>\n",
       "      <td>NaN</td>\n",
       "      <td>NaN</td>\n",
       "      <td>NaN</td>\n",
       "      <td>NaN</td>\n",
       "      <td>NaN</td>\n",
       "      <td>NaN</td>\n",
       "      <td>NaN</td>\n",
       "    </tr>\n",
       "    <tr>\n",
       "      <th>Custom</th>\n",
       "      <td>NaN</td>\n",
       "      <td>NaN</td>\n",
       "      <td>NaN</td>\n",
       "      <td>NaN</td>\n",
       "      <td>NaN</td>\n",
       "      <td>NaN</td>\n",
       "      <td>NaN</td>\n",
       "      <td>NaN</td>\n",
       "      <td>NaN</td>\n",
       "    </tr>\n",
       "  </tbody>\n",
       "</table>\n",
       "</div>"
      ],
      "text/plain": [
       "              Pos_Precision Pos_Recall Pos_F1 ROC AUC   FN   TP   FP   TN  \\\n",
       "Undersampling           NaN        NaN    NaN     NaN  NaN  NaN  NaN  NaN   \n",
       "Oversampling            NaN        NaN    NaN     NaN  NaN  NaN  NaN  NaN   \n",
       "Hybrid                  NaN        NaN    NaN     NaN  NaN  NaN  NaN  NaN   \n",
       "Custom                  NaN        NaN    NaN     NaN  NaN  NaN  NaN  NaN   \n",
       "\n",
       "              Precision_at_Recall  \n",
       "Undersampling                 NaN  \n",
       "Oversampling                  NaN  \n",
       "Hybrid                        NaN  \n",
       "Custom                        NaN  "
      ]
     },
     "execution_count": 7,
     "metadata": {},
     "output_type": "execute_result"
    }
   ],
   "source": [
    "sampling_strategy_metrics_df = pd.DataFrame(\n",
    "    columns=['Pos_Precision', 'Pos_Recall', 'Pos_F1',\n",
    "             'ROC AUC', 'FN', 'TP', 'FP', 'TN', 'Precision_at_Recall'],\n",
    "    index=['Undersampling', 'Oversampling', 'Hybrid', 'Custom'],\n",
    ")\n",
    "\n",
    "sampling_strategy_metrics_df"
   ]
  },
  {
   "cell_type": "markdown",
   "id": "b839ecbb-8e20-499f-95e4-6371acae791e",
   "metadata": {},
   "source": [
    "## <span style=\"color: #8be9fd\">Importing functions</span>"
   ]
  },
  {
   "cell_type": "code",
   "execution_count": 8,
   "id": "e1d7cf28-672e-4c83-8caf-5a39bd8a845d",
   "metadata": {},
   "outputs": [],
   "source": [
    "from helper_functions_comprehensive import test_rf_performance_function, resample_and_test_performance_function"
   ]
  },
  {
   "cell_type": "markdown",
   "id": "a33e70e7-974a-4e98-a42f-355ac36c3927",
   "metadata": {},
   "source": [
    "## <span style=\"color: #8be9fd\">Comparison of Resampling Strategies</span>"
   ]
  },
  {
   "cell_type": "markdown",
   "id": "ecafdcf6-cf10-43ef-b0a4-81ab1876b21a",
   "metadata": {},
   "source": [
    "### <span style=\"color: #8be9fd\">Resampling Method1: Undersampling - RandomUnderSampler</span>"
   ]
  },
  {
   "cell_type": "code",
   "execution_count": 9,
   "id": "09ed00ae-bc91-4803-8034-3f96e120ac50",
   "metadata": {},
   "outputs": [
    {
     "name": "stdout",
     "output_type": "stream",
     "text": [
      "The size of the resampled train sets are as follows:\n",
      "(788, 30) 394\n",
      "Has a Test accuracy of 96.0 % \n",
      "              precision    recall  f1-score   support\n",
      "\n",
      "   Non-Fraud       1.00      0.96      0.98     56864\n",
      "       Fraud       0.04      0.92      0.08        98\n",
      "\n",
      "    accuracy                           0.96     56962\n",
      "   macro avg       0.52      0.94      0.53     56962\n",
      "weighted avg       1.00      0.96      0.98     56962\n",
      "\n",
      "The ROC AUC Score on Test set is 0.98\n",
      "Confusion matrix, without normalization\n",
      "[[54827  2037]\n",
      " [    8    90]]\n"
     ]
    },
    {
     "data": {
      "image/png": "[encoded data removed]",
      "text/plain": [
       "<Figure size 720x432 with 1 Axes>"
      ]
     },
     "metadata": {
      "needs_background": "light"
     },
     "output_type": "display_data"
    },
    {
     "data": {
      "image/png": "[encoded data removed]",
      "text/plain": [
       "<Figure size 576x288 with 2 Axes>"
      ]
     },
     "metadata": {
      "needs_background": "light"
     },
     "output_type": "display_data"
    }
   ],
   "source": [
    "from imblearn.under_sampling import RandomUnderSampler\n",
    "\n",
    "_, __, sampling_strategy_metrics_df.loc['Undersampling'] = resample_and_test_performance_function(\n",
    "    RandomUnderSampler(random_state=42), X_train, Y_train, X_test, Y_test, labels\n",
    ")"
   ]
  },
  {
   "cell_type": "code",
   "execution_count": 10,
   "id": "b1c3ebae-6fc0-4b22-ab13-6664099f7218",
   "metadata": {},
   "outputs": [
    {
     "data": {
      "text/html": [
       "<div>\n",
       "<style scoped>\n",
       "    .dataframe tbody tr th:only-of-type {\n",
       "        vertical-align: middle;\n",
       "    }\n",
       "\n",
       "    .dataframe tbody tr th {\n",
       "        vertical-align: top;\n",
       "    }\n",
       "\n",
       "    .dataframe thead th {\n",
       "        text-align: right;\n",
       "    }\n",
       "</style>\n",
       "<table border=\"1\" class=\"dataframe\">\n",
       "  <thead>\n",
       "    <tr style=\"text-align: right;\">\n",
       "      <th></th>\n",
       "      <th>Pos_Precision</th>\n",
       "      <th>Pos_Recall</th>\n",
       "      <th>Pos_F1</th>\n",
       "      <th>ROC AUC</th>\n",
       "      <th>FN</th>\n",
       "      <th>TP</th>\n",
       "      <th>FP</th>\n",
       "      <th>TN</th>\n",
       "      <th>Precision_at_Recall</th>\n",
       "    </tr>\n",
       "  </thead>\n",
       "  <tbody>\n",
       "    <tr>\n",
       "      <th>Undersampling</th>\n",
       "      <td>0.042313</td>\n",
       "      <td>0.918367</td>\n",
       "      <td>0.080899</td>\n",
       "      <td>0.98</td>\n",
       "      <td>8.0</td>\n",
       "      <td>90.0</td>\n",
       "      <td>2037.0</td>\n",
       "      <td>54827.0</td>\n",
       "      <td>0.711864</td>\n",
       "    </tr>\n",
       "    <tr>\n",
       "      <th>Oversampling</th>\n",
       "      <td>NaN</td>\n",
       "      <td>NaN</td>\n",
       "      <td>NaN</td>\n",
       "      <td>NaN</td>\n",
       "      <td>NaN</td>\n",
       "      <td>NaN</td>\n",
       "      <td>NaN</td>\n",
       "      <td>NaN</td>\n",
       "      <td>NaN</td>\n",
       "    </tr>\n",
       "    <tr>\n",
       "      <th>Hybrid</th>\n",
       "      <td>NaN</td>\n",
       "      <td>NaN</td>\n",
       "      <td>NaN</td>\n",
       "      <td>NaN</td>\n",
       "      <td>NaN</td>\n",
       "      <td>NaN</td>\n",
       "      <td>NaN</td>\n",
       "      <td>NaN</td>\n",
       "      <td>NaN</td>\n",
       "    </tr>\n",
       "    <tr>\n",
       "      <th>Custom</th>\n",
       "      <td>NaN</td>\n",
       "      <td>NaN</td>\n",
       "      <td>NaN</td>\n",
       "      <td>NaN</td>\n",
       "      <td>NaN</td>\n",
       "      <td>NaN</td>\n",
       "      <td>NaN</td>\n",
       "      <td>NaN</td>\n",
       "      <td>NaN</td>\n",
       "    </tr>\n",
       "  </tbody>\n",
       "</table>\n",
       "</div>"
      ],
      "text/plain": [
       "              Pos_Precision Pos_Recall    Pos_F1 ROC AUC   FN    TP      FP  \\\n",
       "Undersampling      0.042313   0.918367  0.080899    0.98  8.0  90.0  2037.0   \n",
       "Oversampling            NaN        NaN       NaN     NaN  NaN   NaN     NaN   \n",
       "Hybrid                  NaN        NaN       NaN     NaN  NaN   NaN     NaN   \n",
       "Custom                  NaN        NaN       NaN     NaN  NaN   NaN     NaN   \n",
       "\n",
       "                    TN Precision_at_Recall  \n",
       "Undersampling  54827.0            0.711864  \n",
       "Oversampling       NaN                 NaN  \n",
       "Hybrid             NaN                 NaN  \n",
       "Custom             NaN                 NaN  "
      ]
     },
     "execution_count": 10,
     "metadata": {},
     "output_type": "execute_result"
    }
   ],
   "source": [
    "sampling_strategy_metrics_df"
   ]
  },
  {
   "cell_type": "markdown",
   "id": "b0cef3bd-931e-474c-8a51-7541cebf43dd",
   "metadata": {},
   "source": [
    "### <span style=\"color: #8be9fd\">Resampling Method2: Oversampling - SMOTE</span>"
   ]
  },
  {
   "cell_type": "code",
   "execution_count": 11,
   "id": "301f9fe2-2e4b-4131-a33e-2888d56f243d",
   "metadata": {},
   "outputs": [
    {
     "name": "stdout",
     "output_type": "stream",
     "text": [
      "The size of the resampled train sets are as follows:\n",
      "(454902, 30) 227451\n",
      "Has a Test accuracy of 100.0 % \n",
      "              precision    recall  f1-score   support\n",
      "\n",
      "   Non-Fraud       1.00      1.00      1.00     56864\n",
      "       Fraud       0.84      0.83      0.83        98\n",
      "\n",
      "    accuracy                           1.00     56962\n",
      "   macro avg       0.92      0.91      0.92     56962\n",
      "weighted avg       1.00      1.00      1.00     56962\n",
      "\n",
      "The ROC AUC Score on Test set is 0.96\n",
      "Confusion matrix, without normalization\n",
      "[[56848    16]\n",
      " [   17    81]]\n"
     ]
    },
    {
     "data": {
      "image/png": "[encoded data removed]",
      "text/plain": [
       "<Figure size 720x432 with 1 Axes>"
      ]
     },
     "metadata": {
      "needs_background": "light"
     },
     "output_type": "display_data"
    },
    {
     "data": {
      "image/png": "[encoded data removed]",
      "text/plain": [
       "<Figure size 576x288 with 2 Axes>"
      ]
     },
     "metadata": {
      "needs_background": "light"
     },
     "output_type": "display_data"
    }
   ],
   "source": [
    "from imblearn.over_sampling import SMOTE\n",
    "\n",
    "_, __, sampling_strategy_metrics_df.loc['Oversampling'] = resample_and_test_performance_function(\n",
    "    SMOTE(random_state=42), X_train, Y_train, X_test, Y_test, labels\n",
    ")"
   ]
  },
  {
   "cell_type": "code",
   "execution_count": 12,
   "id": "f2b39fcd-56e6-4133-b1db-c954c71a1cda",
   "metadata": {},
   "outputs": [
    {
     "data": {
      "text/html": [
       "<div>\n",
       "<style scoped>\n",
       "    .dataframe tbody tr th:only-of-type {\n",
       "        vertical-align: middle;\n",
       "    }\n",
       "\n",
       "    .dataframe tbody tr th {\n",
       "        vertical-align: top;\n",
       "    }\n",
       "\n",
       "    .dataframe thead th {\n",
       "        text-align: right;\n",
       "    }\n",
       "</style>\n",
       "<table border=\"1\" class=\"dataframe\">\n",
       "  <thead>\n",
       "    <tr style=\"text-align: right;\">\n",
       "      <th></th>\n",
       "      <th>Pos_Precision</th>\n",
       "      <th>Pos_Recall</th>\n",
       "      <th>Pos_F1</th>\n",
       "      <th>ROC AUC</th>\n",
       "      <th>FN</th>\n",
       "      <th>TP</th>\n",
       "      <th>FP</th>\n",
       "      <th>TN</th>\n",
       "      <th>Precision_at_Recall</th>\n",
       "    </tr>\n",
       "  </thead>\n",
       "  <tbody>\n",
       "    <tr>\n",
       "      <th>Undersampling</th>\n",
       "      <td>0.042313</td>\n",
       "      <td>0.918367</td>\n",
       "      <td>0.080899</td>\n",
       "      <td>0.98</td>\n",
       "      <td>8.0</td>\n",
       "      <td>90.0</td>\n",
       "      <td>2037.0</td>\n",
       "      <td>54827.0</td>\n",
       "      <td>0.711864</td>\n",
       "    </tr>\n",
       "    <tr>\n",
       "      <th>Oversampling</th>\n",
       "      <td>0.835052</td>\n",
       "      <td>0.826531</td>\n",
       "      <td>0.830769</td>\n",
       "      <td>0.96</td>\n",
       "      <td>17.0</td>\n",
       "      <td>81.0</td>\n",
       "      <td>16.0</td>\n",
       "      <td>56848.0</td>\n",
       "      <td>0.8</td>\n",
       "    </tr>\n",
       "    <tr>\n",
       "      <th>Hybrid</th>\n",
       "      <td>NaN</td>\n",
       "      <td>NaN</td>\n",
       "      <td>NaN</td>\n",
       "      <td>NaN</td>\n",
       "      <td>NaN</td>\n",
       "      <td>NaN</td>\n",
       "      <td>NaN</td>\n",
       "      <td>NaN</td>\n",
       "      <td>NaN</td>\n",
       "    </tr>\n",
       "    <tr>\n",
       "      <th>Custom</th>\n",
       "      <td>NaN</td>\n",
       "      <td>NaN</td>\n",
       "      <td>NaN</td>\n",
       "      <td>NaN</td>\n",
       "      <td>NaN</td>\n",
       "      <td>NaN</td>\n",
       "      <td>NaN</td>\n",
       "      <td>NaN</td>\n",
       "      <td>NaN</td>\n",
       "    </tr>\n",
       "  </tbody>\n",
       "</table>\n",
       "</div>"
      ],
      "text/plain": [
       "              Pos_Precision Pos_Recall    Pos_F1 ROC AUC    FN    TP      FP  \\\n",
       "Undersampling      0.042313   0.918367  0.080899    0.98   8.0  90.0  2037.0   \n",
       "Oversampling       0.835052   0.826531  0.830769    0.96  17.0  81.0    16.0   \n",
       "Hybrid                  NaN        NaN       NaN     NaN   NaN   NaN     NaN   \n",
       "Custom                  NaN        NaN       NaN     NaN   NaN   NaN     NaN   \n",
       "\n",
       "                    TN Precision_at_Recall  \n",
       "Undersampling  54827.0            0.711864  \n",
       "Oversampling   56848.0                 0.8  \n",
       "Hybrid             NaN                 NaN  \n",
       "Custom             NaN                 NaN  "
      ]
     },
     "execution_count": 12,
     "metadata": {},
     "output_type": "execute_result"
    }
   ],
   "source": [
    "sampling_strategy_metrics_df"
   ]
  },
  {
   "cell_type": "markdown",
   "id": "048e126b-5c86-4c66-9ad2-c854efc8c8ac",
   "metadata": {},
   "source": [
    "### <span style=\"color: #8be9fd\">Resampling Method3: Hybrid Oversampling and Undersampling using SMOTEENN</span>"
   ]
  },
  {
   "cell_type": "code",
   "execution_count": 13,
   "id": "7bec05dd-cb26-42a9-bf21-62080ed02a59",
   "metadata": {},
   "outputs": [
    {
     "name": "stdout",
     "output_type": "stream",
     "text": [
      "The size of the resampled train sets are as follows:\n",
      "(427652, 30) 218370\n",
      "Has a Test accuracy of 100.0 % \n",
      "              precision    recall  f1-score   support\n",
      "\n",
      "   Non-Fraud       1.00      1.00      1.00     56864\n",
      "       Fraud       0.79      0.87      0.83        98\n",
      "\n",
      "    accuracy                           1.00     56962\n",
      "   macro avg       0.89      0.93      0.91     56962\n",
      "weighted avg       1.00      1.00      1.00     56962\n",
      "\n",
      "The ROC AUC Score on Test set is 0.96\n",
      "Confusion matrix, without normalization\n",
      "[[56841    23]\n",
      " [   13    85]]\n"
     ]
    },
    {
     "data": {
      "image/png": "[encoded data removed]",
      "text/plain": [
       "<Figure size 720x432 with 1 Axes>"
      ]
     },
     "metadata": {
      "needs_background": "light"
     },
     "output_type": "display_data"
    },
    {
     "data": {
      "image/png": "[encoded data removed]",
      "text/plain": [
       "<Figure size 576x288 with 2 Axes>"
      ]
     },
     "metadata": {
      "needs_background": "light"
     },
     "output_type": "display_data"
    }
   ],
   "source": [
    "from imblearn.combine import SMOTEENN\n",
    "\n",
    "_, __, sampling_strategy_metrics_df.loc['Hybrid'] = resample_and_test_performance_function(\n",
    "    SMOTEENN(sampling_strategy='all', random_state=42), X_train, Y_train, X_test, Y_test, labels\n",
    ")"
   ]
  },
  {
   "cell_type": "code",
   "execution_count": 14,
   "id": "bd9d3f0d-fcf7-4fb0-805c-36a10501beee",
   "metadata": {},
   "outputs": [
    {
     "data": {
      "text/html": [
       "<div>\n",
       "<style scoped>\n",
       "    .dataframe tbody tr th:only-of-type {\n",
       "        vertical-align: middle;\n",
       "    }\n",
       "\n",
       "    .dataframe tbody tr th {\n",
       "        vertical-align: top;\n",
       "    }\n",
       "\n",
       "    .dataframe thead th {\n",
       "        text-align: right;\n",
       "    }\n",
       "</style>\n",
       "<table border=\"1\" class=\"dataframe\">\n",
       "  <thead>\n",
       "    <tr style=\"text-align: right;\">\n",
       "      <th></th>\n",
       "      <th>Pos_Precision</th>\n",
       "      <th>Pos_Recall</th>\n",
       "      <th>Pos_F1</th>\n",
       "      <th>ROC AUC</th>\n",
       "      <th>FN</th>\n",
       "      <th>TP</th>\n",
       "      <th>FP</th>\n",
       "      <th>TN</th>\n",
       "      <th>Precision_at_Recall</th>\n",
       "    </tr>\n",
       "  </thead>\n",
       "  <tbody>\n",
       "    <tr>\n",
       "      <th>Undersampling</th>\n",
       "      <td>0.042313</td>\n",
       "      <td>0.918367</td>\n",
       "      <td>0.080899</td>\n",
       "      <td>0.98</td>\n",
       "      <td>8.0</td>\n",
       "      <td>90.0</td>\n",
       "      <td>2037.0</td>\n",
       "      <td>54827.0</td>\n",
       "      <td>0.711864</td>\n",
       "    </tr>\n",
       "    <tr>\n",
       "      <th>Oversampling</th>\n",
       "      <td>0.835052</td>\n",
       "      <td>0.826531</td>\n",
       "      <td>0.830769</td>\n",
       "      <td>0.96</td>\n",
       "      <td>17.0</td>\n",
       "      <td>81.0</td>\n",
       "      <td>16.0</td>\n",
       "      <td>56848.0</td>\n",
       "      <td>0.8</td>\n",
       "    </tr>\n",
       "    <tr>\n",
       "      <th>Hybrid</th>\n",
       "      <td>0.787037</td>\n",
       "      <td>0.867347</td>\n",
       "      <td>0.825243</td>\n",
       "      <td>0.96</td>\n",
       "      <td>13.0</td>\n",
       "      <td>85.0</td>\n",
       "      <td>23.0</td>\n",
       "      <td>56841.0</td>\n",
       "      <td>0.787037</td>\n",
       "    </tr>\n",
       "    <tr>\n",
       "      <th>Custom</th>\n",
       "      <td>NaN</td>\n",
       "      <td>NaN</td>\n",
       "      <td>NaN</td>\n",
       "      <td>NaN</td>\n",
       "      <td>NaN</td>\n",
       "      <td>NaN</td>\n",
       "      <td>NaN</td>\n",
       "      <td>NaN</td>\n",
       "      <td>NaN</td>\n",
       "    </tr>\n",
       "  </tbody>\n",
       "</table>\n",
       "</div>"
      ],
      "text/plain": [
       "              Pos_Precision Pos_Recall    Pos_F1 ROC AUC    FN    TP      FP  \\\n",
       "Undersampling      0.042313   0.918367  0.080899    0.98   8.0  90.0  2037.0   \n",
       "Oversampling       0.835052   0.826531  0.830769    0.96  17.0  81.0    16.0   \n",
       "Hybrid             0.787037   0.867347  0.825243    0.96  13.0  85.0    23.0   \n",
       "Custom                  NaN        NaN       NaN     NaN   NaN   NaN     NaN   \n",
       "\n",
       "                    TN Precision_at_Recall  \n",
       "Undersampling  54827.0            0.711864  \n",
       "Oversampling   56848.0                 0.8  \n",
       "Hybrid         56841.0            0.787037  \n",
       "Custom             NaN                 NaN  "
      ]
     },
     "execution_count": 14,
     "metadata": {},
     "output_type": "execute_result"
    }
   ],
   "source": [
    "sampling_strategy_metrics_df"
   ]
  },
  {
   "cell_type": "markdown",
   "id": "00b710b9-34eb-4346-9749-76a7b77276e4",
   "metadata": {},
   "source": [
    "### <span style=\"color: #8be9fd\">Resampling Method4: Custom function to oversample at different rates</span>"
   ]
  },
  {
   "cell_type": "code",
   "execution_count": 15,
   "id": "378b8a65-8a97-4d01-a157-0fdc9d1934de",
   "metadata": {},
   "outputs": [
    {
     "name": "stdout",
     "output_type": "stream",
     "text": [
      "(456478, 30) 1576.0\n"
     ]
    }
   ],
   "source": [
    "from helper_functions_comprehensive import augment_data_function\n",
    "\n",
    "X_resampled_train, Y_resampled_train = augment_data_function(\n",
    "    X_train, Y_train, positive_upsampling_ratio=4, negative_upsampling_ratio=2\n",
    ")\n",
    "\n",
    "print(X_resampled_train.shape, sum(Y_resampled_train))"
   ]
  },
  {
   "cell_type": "code",
   "execution_count": 16,
   "id": "a0865bdd-dc1c-4b56-80a1-aa02d733e614",
   "metadata": {},
   "outputs": [
    {
     "name": "stdout",
     "output_type": "stream",
     "text": [
      "Has a Test accuracy of 100.0 % \n",
      "              precision    recall  f1-score   support\n",
      "\n",
      "   Non-Fraud       1.00      1.00      1.00     56864\n",
      "       Fraud       0.89      0.85      0.87        98\n",
      "\n",
      "    accuracy                           1.00     56962\n",
      "   macro avg       0.95      0.92      0.93     56962\n",
      "weighted avg       1.00      1.00      1.00     56962\n",
      "\n",
      "The ROC AUC Score on Test set is 0.95\n",
      "Confusion matrix, without normalization\n",
      "[[56854    10]\n",
      " [   15    83]]\n"
     ]
    },
    {
     "data": {
      "image/png": "[encoded data removed]",
      "text/plain": [
       "<Figure size 720x432 with 1 Axes>"
      ]
     },
     "metadata": {
      "needs_background": "light"
     },
     "output_type": "display_data"
    },
    {
     "data": {
      "image/png": "[encoded data removed]",
      "text/plain": [
       "<Figure size 576x288 with 2 Axes>"
      ]
     },
     "metadata": {
      "needs_background": "light"
     },
     "output_type": "display_data"
    }
   ],
   "source": [
    "sampling_strategy_metrics_df.loc['Custom'] = test_rf_performance_function(\n",
    "    X_resampled_train, Y_resampled_train, X_test, Y_test, labels\n",
    ")"
   ]
  },
  {
   "cell_type": "code",
   "execution_count": 17,
   "id": "58d783dd-4d4c-4218-bad8-192deaaaa810",
   "metadata": {},
   "outputs": [
    {
     "data": {
      "text/html": [
       "<div>\n",
       "<style scoped>\n",
       "    .dataframe tbody tr th:only-of-type {\n",
       "        vertical-align: middle;\n",
       "    }\n",
       "\n",
       "    .dataframe tbody tr th {\n",
       "        vertical-align: top;\n",
       "    }\n",
       "\n",
       "    .dataframe thead th {\n",
       "        text-align: right;\n",
       "    }\n",
       "</style>\n",
       "<table border=\"1\" class=\"dataframe\">\n",
       "  <thead>\n",
       "    <tr style=\"text-align: right;\">\n",
       "      <th></th>\n",
       "      <th>Pos_Precision</th>\n",
       "      <th>Pos_Recall</th>\n",
       "      <th>Pos_F1</th>\n",
       "      <th>ROC AUC</th>\n",
       "      <th>FN</th>\n",
       "      <th>TP</th>\n",
       "      <th>FP</th>\n",
       "      <th>TN</th>\n",
       "      <th>Precision_at_Recall</th>\n",
       "    </tr>\n",
       "  </thead>\n",
       "  <tbody>\n",
       "    <tr>\n",
       "      <th>Undersampling</th>\n",
       "      <td>0.042313</td>\n",
       "      <td>0.918367</td>\n",
       "      <td>0.080899</td>\n",
       "      <td>0.98</td>\n",
       "      <td>8.0</td>\n",
       "      <td>90.0</td>\n",
       "      <td>2037.0</td>\n",
       "      <td>54827.0</td>\n",
       "      <td>0.711864</td>\n",
       "    </tr>\n",
       "    <tr>\n",
       "      <th>Oversampling</th>\n",
       "      <td>0.835052</td>\n",
       "      <td>0.826531</td>\n",
       "      <td>0.830769</td>\n",
       "      <td>0.96</td>\n",
       "      <td>17.0</td>\n",
       "      <td>81.0</td>\n",
       "      <td>16.0</td>\n",
       "      <td>56848.0</td>\n",
       "      <td>0.8</td>\n",
       "    </tr>\n",
       "    <tr>\n",
       "      <th>Hybrid</th>\n",
       "      <td>0.787037</td>\n",
       "      <td>0.867347</td>\n",
       "      <td>0.825243</td>\n",
       "      <td>0.96</td>\n",
       "      <td>13.0</td>\n",
       "      <td>85.0</td>\n",
       "      <td>23.0</td>\n",
       "      <td>56841.0</td>\n",
       "      <td>0.787037</td>\n",
       "    </tr>\n",
       "    <tr>\n",
       "      <th>Custom</th>\n",
       "      <td>0.892473</td>\n",
       "      <td>0.846939</td>\n",
       "      <td>0.86911</td>\n",
       "      <td>0.95</td>\n",
       "      <td>15.0</td>\n",
       "      <td>83.0</td>\n",
       "      <td>10.0</td>\n",
       "      <td>56854.0</td>\n",
       "      <td>0.884211</td>\n",
       "    </tr>\n",
       "  </tbody>\n",
       "</table>\n",
       "</div>"
      ],
      "text/plain": [
       "              Pos_Precision Pos_Recall    Pos_F1 ROC AUC    FN    TP      FP  \\\n",
       "Undersampling      0.042313   0.918367  0.080899    0.98   8.0  90.0  2037.0   \n",
       "Oversampling       0.835052   0.826531  0.830769    0.96  17.0  81.0    16.0   \n",
       "Hybrid             0.787037   0.867347  0.825243    0.96  13.0  85.0    23.0   \n",
       "Custom             0.892473   0.846939   0.86911    0.95  15.0  83.0    10.0   \n",
       "\n",
       "                    TN Precision_at_Recall  \n",
       "Undersampling  54827.0            0.711864  \n",
       "Oversampling   56848.0                 0.8  \n",
       "Hybrid         56841.0            0.787037  \n",
       "Custom         56854.0            0.884211  "
      ]
     },
     "execution_count": 17,
     "metadata": {},
     "output_type": "execute_result"
    }
   ],
   "source": [
    "sampling_strategy_metrics_df"
   ]
  },
  {
   "cell_type": "markdown",
   "id": "3142c3d3-c2db-4e93-ab77-88d3aba3ea9b",
   "metadata": {},
   "source": [
    "# <span style=\"color: #8be9fd\">EDA & Cleaning for ML Generalizability</span>"
   ]
  },
  {
   "cell_type": "markdown",
   "id": "49bb494d-69d7-49f9-83d0-b0554a543284",
   "metadata": {},
   "source": [
    "## <span style=\"color: #8be9fd\">Pre-cleaning setup</span>"
   ]
  },
  {
   "cell_type": "markdown",
   "id": "93593dcc-49ec-4291-b3ed-d4dd2872b7f4",
   "metadata": {},
   "source": [
    "this dataset is fairly okay and there isnt anything that needs to be applied to the whole dataset. So we will skip this section"
   ]
  },
  {
   "cell_type": "markdown",
   "id": "10d34df1-de40-43d2-abc4-1c0e66bc452c",
   "metadata": {},
   "source": [
    "## <span style=\"color: #8be9fd\">EDA & Handling Outliers</span>"
   ]
  },
  {
   "cell_type": "markdown",
   "id": "1d73151d-51fb-4391-b669-d6faa1b49b5c",
   "metadata": {},
   "source": [
    "### <span style=\"color: #8be9fd\">Selecting top features - Feature Importances</span>"
   ]
  },
  {
   "cell_type": "code",
   "execution_count": 18,
   "id": "21c54c0f-bff3-4200-9ca8-3283b8ecbdfb",
   "metadata": {},
   "outputs": [
    {
     "data": {
      "text/plain": [
       "RandomForestClassifier(random_state=42)"
      ]
     },
     "execution_count": 18,
     "metadata": {},
     "output_type": "execute_result"
    }
   ],
   "source": [
    "from sklearn.ensemble import RandomForestClassifier\n",
    "\n",
    "classifier = RandomForestClassifier(random_state=42)\n",
    "classifier.fit(X_resampled_train, Y_resampled_train)"
   ]
  },
  {
   "cell_type": "code",
   "execution_count": 19,
   "id": "e713dab0-cb50-4276-a7c3-cb5e136ecda4",
   "metadata": {},
   "outputs": [
    {
     "data": {
      "text/html": [
       "<div>\n",
       "<style scoped>\n",
       "    .dataframe tbody tr th:only-of-type {\n",
       "        vertical-align: middle;\n",
       "    }\n",
       "\n",
       "    .dataframe tbody tr th {\n",
       "        vertical-align: top;\n",
       "    }\n",
       "\n",
       "    .dataframe thead th {\n",
       "        text-align: right;\n",
       "    }\n",
       "</style>\n",
       "<table border=\"1\" class=\"dataframe\">\n",
       "  <thead>\n",
       "    <tr style=\"text-align: right;\">\n",
       "      <th></th>\n",
       "      <th>feature</th>\n",
       "      <th>importance</th>\n",
       "    </tr>\n",
       "  </thead>\n",
       "  <tbody>\n",
       "    <tr>\n",
       "      <th>17</th>\n",
       "      <td>V17</td>\n",
       "      <td>0.179180</td>\n",
       "    </tr>\n",
       "    <tr>\n",
       "      <th>14</th>\n",
       "      <td>V14</td>\n",
       "      <td>0.153202</td>\n",
       "    </tr>\n",
       "    <tr>\n",
       "      <th>12</th>\n",
       "      <td>V12</td>\n",
       "      <td>0.150652</td>\n",
       "    </tr>\n",
       "    <tr>\n",
       "      <th>10</th>\n",
       "      <td>V10</td>\n",
       "      <td>0.104844</td>\n",
       "    </tr>\n",
       "    <tr>\n",
       "      <th>16</th>\n",
       "      <td>V16</td>\n",
       "      <td>0.081966</td>\n",
       "    </tr>\n",
       "  </tbody>\n",
       "</table>\n",
       "</div>"
      ],
      "text/plain": [
       "   feature  importance\n",
       "17     V17    0.179180\n",
       "14     V14    0.153202\n",
       "12     V12    0.150652\n",
       "10     V10    0.104844\n",
       "16     V16    0.081966"
      ]
     },
     "execution_count": 19,
     "metadata": {},
     "output_type": "execute_result"
    }
   ],
   "source": [
    "feature_importances = classifier.feature_importances_\n",
    "\n",
    "feature_importances_df = pd.DataFrame({\n",
    "    'feature': list(X.columns),\n",
    "    'importance': feature_importances,\n",
    "}).sort_values('importance', ascending=False)\n",
    "\n",
    "feature_importances_df.head()"
   ]
  },
  {
   "cell_type": "code",
   "execution_count": 20,
   "id": "c6cdb8de-a76e-438b-92f9-4c63bf48c1b4",
   "metadata": {},
   "outputs": [
    {
     "data": {
      "text/plain": [
       "['V17', 'V14', 'V12', 'V10', 'V16']"
      ]
     },
     "execution_count": 20,
     "metadata": {},
     "output_type": "execute_result"
    }
   ],
   "source": [
    "imp_column_list = list(feature_importances_df.head()['feature'].values)\n",
    "imp_column_list"
   ]
  },
  {
   "cell_type": "code",
   "execution_count": 21,
   "id": "02fdde6c-e63b-4ffb-9f19-ef8327490d02",
   "metadata": {},
   "outputs": [
    {
     "name": "stdout",
     "output_type": "stream",
     "text": [
      "456478 1576.0\n"
     ]
    },
    {
     "data": {
      "text/html": [
       "<div>\n",
       "<style scoped>\n",
       "    .dataframe tbody tr th:only-of-type {\n",
       "        vertical-align: middle;\n",
       "    }\n",
       "\n",
       "    .dataframe tbody tr th {\n",
       "        vertical-align: top;\n",
       "    }\n",
       "\n",
       "    .dataframe thead th {\n",
       "        text-align: right;\n",
       "    }\n",
       "</style>\n",
       "<table border=\"1\" class=\"dataframe\">\n",
       "  <thead>\n",
       "    <tr style=\"text-align: right;\">\n",
       "      <th></th>\n",
       "      <th>Time</th>\n",
       "      <th>V1</th>\n",
       "      <th>V2</th>\n",
       "      <th>V3</th>\n",
       "      <th>V4</th>\n",
       "      <th>V5</th>\n",
       "      <th>V6</th>\n",
       "      <th>V7</th>\n",
       "      <th>V8</th>\n",
       "      <th>V9</th>\n",
       "      <th>...</th>\n",
       "      <th>V21</th>\n",
       "      <th>V22</th>\n",
       "      <th>V23</th>\n",
       "      <th>V24</th>\n",
       "      <th>V25</th>\n",
       "      <th>V26</th>\n",
       "      <th>V27</th>\n",
       "      <th>V28</th>\n",
       "      <th>Amount</th>\n",
       "      <th>Class</th>\n",
       "    </tr>\n",
       "  </thead>\n",
       "  <tbody>\n",
       "    <tr>\n",
       "      <th>326392</th>\n",
       "      <td>56061.0</td>\n",
       "      <td>0.946201</td>\n",
       "      <td>2.723038</td>\n",
       "      <td>1.188370</td>\n",
       "      <td>-2.071029</td>\n",
       "      <td>-0.645028</td>\n",
       "      <td>0.058043</td>\n",
       "      <td>-0.710116</td>\n",
       "      <td>0.771046</td>\n",
       "      <td>-2.019551</td>\n",
       "      <td>...</td>\n",
       "      <td>-0.169184</td>\n",
       "      <td>-0.845637</td>\n",
       "      <td>0.339060</td>\n",
       "      <td>-0.811356</td>\n",
       "      <td>0.148259</td>\n",
       "      <td>0.361756</td>\n",
       "      <td>-0.118261</td>\n",
       "      <td>-0.035589</td>\n",
       "      <td>10.00</td>\n",
       "      <td>0.0</td>\n",
       "    </tr>\n",
       "    <tr>\n",
       "      <th>387028</th>\n",
       "      <td>1517.0</td>\n",
       "      <td>-0.627577</td>\n",
       "      <td>1.002469</td>\n",
       "      <td>-0.983580</td>\n",
       "      <td>-0.565997</td>\n",
       "      <td>-1.335970</td>\n",
       "      <td>-0.707282</td>\n",
       "      <td>1.128648</td>\n",
       "      <td>0.559435</td>\n",
       "      <td>0.322307</td>\n",
       "      <td>...</td>\n",
       "      <td>0.630732</td>\n",
       "      <td>-0.824070</td>\n",
       "      <td>0.115238</td>\n",
       "      <td>0.486069</td>\n",
       "      <td>-0.295006</td>\n",
       "      <td>-0.228363</td>\n",
       "      <td>-0.625565</td>\n",
       "      <td>-0.052095</td>\n",
       "      <td>15.45</td>\n",
       "      <td>0.0</td>\n",
       "    </tr>\n",
       "    <tr>\n",
       "      <th>163142</th>\n",
       "      <td>91929.0</td>\n",
       "      <td>0.215073</td>\n",
       "      <td>-0.295067</td>\n",
       "      <td>1.500247</td>\n",
       "      <td>-1.463686</td>\n",
       "      <td>-0.570438</td>\n",
       "      <td>0.951431</td>\n",
       "      <td>-0.924938</td>\n",
       "      <td>0.188670</td>\n",
       "      <td>1.626176</td>\n",
       "      <td>...</td>\n",
       "      <td>0.035657</td>\n",
       "      <td>0.628107</td>\n",
       "      <td>-0.049854</td>\n",
       "      <td>0.182715</td>\n",
       "      <td>-0.453174</td>\n",
       "      <td>-0.304186</td>\n",
       "      <td>-0.044989</td>\n",
       "      <td>0.008168</td>\n",
       "      <td>10.89</td>\n",
       "      <td>0.0</td>\n",
       "    </tr>\n",
       "    <tr>\n",
       "      <th>10523</th>\n",
       "      <td>30426.0</td>\n",
       "      <td>-1.182199</td>\n",
       "      <td>0.187027</td>\n",
       "      <td>1.943799</td>\n",
       "      <td>-1.639044</td>\n",
       "      <td>-0.950472</td>\n",
       "      <td>-0.596769</td>\n",
       "      <td>-0.636670</td>\n",
       "      <td>0.544201</td>\n",
       "      <td>-1.250241</td>\n",
       "      <td>...</td>\n",
       "      <td>0.553752</td>\n",
       "      <td>1.444296</td>\n",
       "      <td>-0.165767</td>\n",
       "      <td>0.464758</td>\n",
       "      <td>0.084961</td>\n",
       "      <td>-0.178507</td>\n",
       "      <td>0.248975</td>\n",
       "      <td>0.065126</td>\n",
       "      <td>19.99</td>\n",
       "      <td>0.0</td>\n",
       "    </tr>\n",
       "    <tr>\n",
       "      <th>402077</th>\n",
       "      <td>68796.0</td>\n",
       "      <td>-1.181072</td>\n",
       "      <td>-0.091066</td>\n",
       "      <td>1.589540</td>\n",
       "      <td>1.056389</td>\n",
       "      <td>1.130490</td>\n",
       "      <td>1.347457</td>\n",
       "      <td>0.181419</td>\n",
       "      <td>0.228698</td>\n",
       "      <td>0.291059</td>\n",
       "      <td>...</td>\n",
       "      <td>0.098985</td>\n",
       "      <td>0.180486</td>\n",
       "      <td>0.064767</td>\n",
       "      <td>0.005463</td>\n",
       "      <td>0.039004</td>\n",
       "      <td>-0.307554</td>\n",
       "      <td>-0.067967</td>\n",
       "      <td>0.010975</td>\n",
       "      <td>542.21</td>\n",
       "      <td>0.0</td>\n",
       "    </tr>\n",
       "  </tbody>\n",
       "</table>\n",
       "<p>5 rows × 31 columns</p>\n",
       "</div>"
      ],
      "text/plain": [
       "           Time        V1        V2        V3        V4        V5        V6  \\\n",
       "326392  56061.0  0.946201  2.723038  1.188370 -2.071029 -0.645028  0.058043   \n",
       "387028   1517.0 -0.627577  1.002469 -0.983580 -0.565997 -1.335970 -0.707282   \n",
       "163142  91929.0  0.215073 -0.295067  1.500247 -1.463686 -0.570438  0.951431   \n",
       "10523   30426.0 -1.182199  0.187027  1.943799 -1.639044 -0.950472 -0.596769   \n",
       "402077  68796.0 -1.181072 -0.091066  1.589540  1.056389  1.130490  1.347457   \n",
       "\n",
       "              V7        V8        V9  ...       V21       V22       V23  \\\n",
       "326392 -0.710116  0.771046 -2.019551  ... -0.169184 -0.845637  0.339060   \n",
       "387028  1.128648  0.559435  0.322307  ...  0.630732 -0.824070  0.115238   \n",
       "163142 -0.924938  0.188670  1.626176  ...  0.035657  0.628107 -0.049854   \n",
       "10523  -0.636670  0.544201 -1.250241  ...  0.553752  1.444296 -0.165767   \n",
       "402077  0.181419  0.228698  0.291059  ...  0.098985  0.180486  0.064767   \n",
       "\n",
       "             V24       V25       V26       V27       V28  Amount  Class  \n",
       "326392 -0.811356  0.148259  0.361756 -0.118261 -0.035589   10.00    0.0  \n",
       "387028  0.486069 -0.295006 -0.228363 -0.625565 -0.052095   15.45    0.0  \n",
       "163142  0.182715 -0.453174 -0.304186 -0.044989  0.008168   10.89    0.0  \n",
       "10523   0.464758  0.084961 -0.178507  0.248975  0.065126   19.99    0.0  \n",
       "402077  0.005463  0.039004 -0.307554 -0.067967  0.010975  542.21    0.0  \n",
       "\n",
       "[5 rows x 31 columns]"
      ]
     },
     "execution_count": 21,
     "metadata": {},
     "output_type": "execute_result"
    }
   ],
   "source": [
    "XY_resampled_train = pd.concat([X_resampled_train, Y_resampled_train], axis=1)\n",
    "XY_resampled_train.rename(columns={0: target_class_name}, inplace=True)\n",
    "\n",
    "print(len(XY_resampled_train), sum(Y_resampled_train))\n",
    "XY_resampled_train.head()"
   ]
  },
  {
   "cell_type": "code",
   "execution_count": 22,
   "id": "df059e4d-f059-4268-bbeb-7a0d15b486f8",
   "metadata": {},
   "outputs": [
    {
     "data": {
      "text/plain": [
       "(1576, 454902, 456478)"
      ]
     },
     "execution_count": 22,
     "metadata": {},
     "output_type": "execute_result"
    }
   ],
   "source": [
    "minority_resampled_train_df = XY_resampled_train[XY_resampled_train[target_class_name]==1].copy()\n",
    "majority_resampled_train_df = XY_resampled_train[XY_resampled_train[target_class_name]==0].copy()\n",
    "\n",
    "len(minority_resampled_train_df), len(majority_resampled_train_df), len(XY_resampled_train)"
   ]
  },
  {
   "cell_type": "markdown",
   "id": "fbbbbef8-39a2-4f2e-bfc0-ec96f69573dd",
   "metadata": {},
   "source": [
    "### <span style=\"color: #8be9fd\">EDA - Numerical Features</span>"
   ]
  },
  {
   "cell_type": "code",
   "execution_count": 23,
   "id": "b21f509d-6e30-4a61-8a1e-5aec9148ab9a",
   "metadata": {},
   "outputs": [
    {
     "data": {
      "image/png": "[encoded data removed]",
      "text/plain": [
       "<Figure size 1152x576 with 3 Axes>"
      ]
     },
     "metadata": {
      "needs_background": "light"
     },
     "output_type": "display_data"
    },
    {
     "data": {
      "image/png": "[encoded data removed]",
      "text/plain": [
       "<Figure size 1152x576 with 3 Axes>"
      ]
     },
     "metadata": {
      "needs_background": "light"
     },
     "output_type": "display_data"
    },
    {
     "data": {
      "image/png": "[encoded data removed]",
      "text/plain": [
       "<Figure size 1152x576 with 3 Axes>"
      ]
     },
     "metadata": {
      "needs_background": "light"
     },
     "output_type": "display_data"
    },
    {
     "data": {
      "image/png": "[encoded data removed]",
      "text/plain": [
       "<Figure size 1152x576 with 3 Axes>"
      ]
     },
     "metadata": {
      "needs_background": "light"
     },
     "output_type": "display_data"
    },
    {
     "data": {
      "image/png": "[encoded data removed]",
      "text/plain": [
       "<Figure size 1152x576 with 3 Axes>"
      ]
     },
     "metadata": {
      "needs_background": "light"
     },
     "output_type": "display_data"
    }
   ],
   "source": [
    "from helper_functions_comprehensive import numerical_distribution_function\n",
    "\n",
    "no_of_bins = len(minority_resampled_train_df) // 30\n",
    "\n",
    "numerical_distribution_function(minority_resampled_train_df[imp_column_list], bins=no_of_bins)"
   ]
  },
  {
   "cell_type": "markdown",
   "id": "5642416b-4739-4d72-8c1c-2974dd3958be",
   "metadata": {},
   "source": [
    "### <span style=\"color: #8be9fd\">Outlier Definition, Detection & Removal</span>"
   ]
  },
  {
   "cell_type": "code",
   "execution_count": 26,
   "id": "cd4c39a7-1642-4ac4-847f-5a27af28e151",
   "metadata": {},
   "outputs": [
    {
     "data": {
      "text/html": [
       "<div>\n",
       "<style scoped>\n",
       "    .dataframe tbody tr th:only-of-type {\n",
       "        vertical-align: middle;\n",
       "    }\n",
       "\n",
       "    .dataframe tbody tr th {\n",
       "        vertical-align: top;\n",
       "    }\n",
       "\n",
       "    .dataframe thead th {\n",
       "        text-align: right;\n",
       "    }\n",
       "</style>\n",
       "<table border=\"1\" class=\"dataframe\">\n",
       "  <thead>\n",
       "    <tr style=\"text-align: right;\">\n",
       "      <th></th>\n",
       "      <th>0.25</th>\n",
       "      <th>0.75</th>\n",
       "      <th>lower_cutoff</th>\n",
       "      <th>upper_cutoff</th>\n",
       "    </tr>\n",
       "  </thead>\n",
       "  <tbody>\n",
       "    <tr>\n",
       "      <th>V17</th>\n",
       "      <td>-11.647158</td>\n",
       "      <td>-0.868183</td>\n",
       "      <td>-27.815620</td>\n",
       "      <td>15.300280</td>\n",
       "    </tr>\n",
       "    <tr>\n",
       "      <th>V14</th>\n",
       "      <td>-9.657627</td>\n",
       "      <td>-4.211756</td>\n",
       "      <td>-17.826433</td>\n",
       "      <td>3.957050</td>\n",
       "    </tr>\n",
       "    <tr>\n",
       "      <th>V12</th>\n",
       "      <td>-8.681609</td>\n",
       "      <td>-2.820042</td>\n",
       "      <td>-17.473959</td>\n",
       "      <td>5.972308</td>\n",
       "    </tr>\n",
       "    <tr>\n",
       "      <th>V10</th>\n",
       "      <td>-7.509557</td>\n",
       "      <td>-2.495619</td>\n",
       "      <td>-15.030465</td>\n",
       "      <td>5.025288</td>\n",
       "    </tr>\n",
       "    <tr>\n",
       "      <th>V16</th>\n",
       "      <td>-6.525081</td>\n",
       "      <td>-1.139754</td>\n",
       "      <td>-14.603071</td>\n",
       "      <td>6.938236</td>\n",
       "    </tr>\n",
       "  </tbody>\n",
       "</table>\n",
       "</div>"
      ],
      "text/plain": [
       "          0.25      0.75  lower_cutoff  upper_cutoff\n",
       "V17 -11.647158 -0.868183    -27.815620     15.300280\n",
       "V14  -9.657627 -4.211756    -17.826433      3.957050\n",
       "V12  -8.681609 -2.820042    -17.473959      5.972308\n",
       "V10  -7.509557 -2.495619    -15.030465      5.025288\n",
       "V16  -6.525081 -1.139754    -14.603071      6.938236"
      ]
     },
     "execution_count": 26,
     "metadata": {},
     "output_type": "execute_result"
    }
   ],
   "source": [
    "outlier_cutoff_df = minority_resampled_train_df[imp_column_list].quantile([0.25, 0.75]).T\n",
    "\n",
    "outlier_cutoff_df['lower_cutoff'] = outlier_cutoff_df[0.25] - 1.5*(outlier_cutoff_df[0.75] - outlier_cutoff_df[0.25])\n",
    "outlier_cutoff_df['upper_cutoff'] = outlier_cutoff_df[0.75] + 1.5*(outlier_cutoff_df[0.75] - outlier_cutoff_df[0.25])\n",
    "\n",
    "outlier_cutoff_df"
   ]
  },
  {
   "cell_type": "code",
   "execution_count": 27,
   "id": "a1a3ebcf-aa6c-4acf-8999-18da11c93f0c",
   "metadata": {},
   "outputs": [
    {
     "name": "stdout",
     "output_type": "stream",
     "text": [
      "Outliers deleted in column V17 is 0\n",
      "Outliers deleted in column V14 is 12\n",
      "Outliers deleted in column V12 is 15\n",
      "Outliers deleted in column V10 is 85\n",
      "Outliers deleted in column V16 is 0\n"
     ]
    }
   ],
   "source": [
    "for col in imp_column_list:\n",
    "    old_number_of_rows = len(minority_resampled_train_df)\n",
    "    \n",
    "    upper_cutoff = outlier_cutoff_df.loc[col, 'upper_cutoff']\n",
    "    lower_cutoff = outlier_cutoff_df.loc[col, 'lower_cutoff']\n",
    "    \n",
    "    minority_resampled_train_df = minority_resampled_train_df.drop(\n",
    "        minority_resampled_train_df[\n",
    "            (minority_resampled_train_df[col] > upper_cutoff) | (minority_resampled_train_df[col] < lower_cutoff)\n",
    "        ].index\n",
    "    )\n",
    "    \n",
    "    print('Outliers deleted in column {} is {}'.format(col, old_number_of_rows - len(minority_resampled_train_df)))"
   ]
  },
  {
   "cell_type": "code",
   "execution_count": 28,
   "id": "b840e4cf-5ab7-40ba-995e-37b84abba13a",
   "metadata": {},
   "outputs": [
    {
     "name": "stdout",
     "output_type": "stream",
     "text": [
      "112.0 Outliers were removed from 1576 number resampled Fraud data\n"
     ]
    }
   ],
   "source": [
    "print('{} Outliers were removed from {} number resampled Fraud data'.format(\n",
    "    sum(XY_resampled_train[target_class_name]) - len(minority_resampled_train_df),\n",
    "    len(XY_resampled_train[XY_resampled_train[target_class_name]==1]),\n",
    "))"
   ]
  },
  {
   "cell_type": "code",
   "execution_count": 29,
   "id": "74b294fd-e3d3-4bf8-8f87-b7fc68d9d2f7",
   "metadata": {},
   "outputs": [
    {
     "name": "stdout",
     "output_type": "stream",
     "text": [
      "456366 1464.0\n"
     ]
    },
    {
     "data": {
      "text/html": [
       "<div>\n",
       "<style scoped>\n",
       "    .dataframe tbody tr th:only-of-type {\n",
       "        vertical-align: middle;\n",
       "    }\n",
       "\n",
       "    .dataframe tbody tr th {\n",
       "        vertical-align: top;\n",
       "    }\n",
       "\n",
       "    .dataframe thead th {\n",
       "        text-align: right;\n",
       "    }\n",
       "</style>\n",
       "<table border=\"1\" class=\"dataframe\">\n",
       "  <thead>\n",
       "    <tr style=\"text-align: right;\">\n",
       "      <th></th>\n",
       "      <th>Time</th>\n",
       "      <th>V1</th>\n",
       "      <th>V2</th>\n",
       "      <th>V3</th>\n",
       "      <th>V4</th>\n",
       "      <th>V5</th>\n",
       "      <th>V6</th>\n",
       "      <th>V7</th>\n",
       "      <th>V8</th>\n",
       "      <th>V9</th>\n",
       "      <th>...</th>\n",
       "      <th>V20</th>\n",
       "      <th>V21</th>\n",
       "      <th>V22</th>\n",
       "      <th>V23</th>\n",
       "      <th>V24</th>\n",
       "      <th>V25</th>\n",
       "      <th>V26</th>\n",
       "      <th>V27</th>\n",
       "      <th>V28</th>\n",
       "      <th>Amount</th>\n",
       "    </tr>\n",
       "  </thead>\n",
       "  <tbody>\n",
       "    <tr>\n",
       "      <th>0</th>\n",
       "      <td>161919.0</td>\n",
       "      <td>1.946747</td>\n",
       "      <td>-0.752526</td>\n",
       "      <td>-1.355130</td>\n",
       "      <td>-0.661630</td>\n",
       "      <td>1.502822</td>\n",
       "      <td>4.024933</td>\n",
       "      <td>-1.479661</td>\n",
       "      <td>1.139880</td>\n",
       "      <td>1.406819</td>\n",
       "      <td>...</td>\n",
       "      <td>-0.134435</td>\n",
       "      <td>0.076197</td>\n",
       "      <td>0.297537</td>\n",
       "      <td>0.307915</td>\n",
       "      <td>0.690980</td>\n",
       "      <td>-0.350316</td>\n",
       "      <td>-0.388907</td>\n",
       "      <td>0.077641</td>\n",
       "      <td>-0.032248</td>\n",
       "      <td>7.32</td>\n",
       "    </tr>\n",
       "    <tr>\n",
       "      <th>1</th>\n",
       "      <td>124477.0</td>\n",
       "      <td>2.035149</td>\n",
       "      <td>-0.048880</td>\n",
       "      <td>-3.058693</td>\n",
       "      <td>0.247945</td>\n",
       "      <td>2.943487</td>\n",
       "      <td>3.298697</td>\n",
       "      <td>-0.002192</td>\n",
       "      <td>0.674782</td>\n",
       "      <td>0.045826</td>\n",
       "      <td>...</td>\n",
       "      <td>-0.227279</td>\n",
       "      <td>0.038628</td>\n",
       "      <td>0.228197</td>\n",
       "      <td>0.035542</td>\n",
       "      <td>0.707090</td>\n",
       "      <td>0.512885</td>\n",
       "      <td>-0.471198</td>\n",
       "      <td>0.002520</td>\n",
       "      <td>-0.069002</td>\n",
       "      <td>2.99</td>\n",
       "    </tr>\n",
       "    <tr>\n",
       "      <th>2</th>\n",
       "      <td>41191.0</td>\n",
       "      <td>-0.991920</td>\n",
       "      <td>0.603193</td>\n",
       "      <td>0.711976</td>\n",
       "      <td>-0.992425</td>\n",
       "      <td>-0.825838</td>\n",
       "      <td>1.956261</td>\n",
       "      <td>-2.212603</td>\n",
       "      <td>-5.037523</td>\n",
       "      <td>0.000772</td>\n",
       "      <td>...</td>\n",
       "      <td>1.280856</td>\n",
       "      <td>-2.798352</td>\n",
       "      <td>0.109526</td>\n",
       "      <td>-0.436530</td>\n",
       "      <td>-0.932803</td>\n",
       "      <td>0.826684</td>\n",
       "      <td>0.913773</td>\n",
       "      <td>0.038049</td>\n",
       "      <td>0.185340</td>\n",
       "      <td>175.10</td>\n",
       "    </tr>\n",
       "    <tr>\n",
       "      <th>3</th>\n",
       "      <td>132624.0</td>\n",
       "      <td>2.285718</td>\n",
       "      <td>-1.500239</td>\n",
       "      <td>-0.747565</td>\n",
       "      <td>-1.668119</td>\n",
       "      <td>-1.394143</td>\n",
       "      <td>-0.350339</td>\n",
       "      <td>-1.427984</td>\n",
       "      <td>0.010010</td>\n",
       "      <td>-1.118447</td>\n",
       "      <td>...</td>\n",
       "      <td>-0.490642</td>\n",
       "      <td>-0.139670</td>\n",
       "      <td>0.077013</td>\n",
       "      <td>0.208310</td>\n",
       "      <td>-0.538236</td>\n",
       "      <td>-0.278032</td>\n",
       "      <td>-0.162068</td>\n",
       "      <td>0.018045</td>\n",
       "      <td>-0.063005</td>\n",
       "      <td>6.10</td>\n",
       "    </tr>\n",
       "    <tr>\n",
       "      <th>4</th>\n",
       "      <td>59359.0</td>\n",
       "      <td>-0.448747</td>\n",
       "      <td>-1.011440</td>\n",
       "      <td>0.115903</td>\n",
       "      <td>-3.454854</td>\n",
       "      <td>0.715771</td>\n",
       "      <td>-0.147490</td>\n",
       "      <td>0.504347</td>\n",
       "      <td>-0.113817</td>\n",
       "      <td>-0.044782</td>\n",
       "      <td>...</td>\n",
       "      <td>-0.275297</td>\n",
       "      <td>-0.243245</td>\n",
       "      <td>-0.173298</td>\n",
       "      <td>-0.006692</td>\n",
       "      <td>-1.362383</td>\n",
       "      <td>-0.292234</td>\n",
       "      <td>-0.144622</td>\n",
       "      <td>-0.032580</td>\n",
       "      <td>-0.064194</td>\n",
       "      <td>86.10</td>\n",
       "    </tr>\n",
       "  </tbody>\n",
       "</table>\n",
       "<p>5 rows × 30 columns</p>\n",
       "</div>"
      ],
      "text/plain": [
       "       Time        V1        V2        V3        V4        V5        V6  \\\n",
       "0  161919.0  1.946747 -0.752526 -1.355130 -0.661630  1.502822  4.024933   \n",
       "1  124477.0  2.035149 -0.048880 -3.058693  0.247945  2.943487  3.298697   \n",
       "2   41191.0 -0.991920  0.603193  0.711976 -0.992425 -0.825838  1.956261   \n",
       "3  132624.0  2.285718 -1.500239 -0.747565 -1.668119 -1.394143 -0.350339   \n",
       "4   59359.0 -0.448747 -1.011440  0.115903 -3.454854  0.715771 -0.147490   \n",
       "\n",
       "         V7        V8        V9  ...       V20       V21       V22       V23  \\\n",
       "0 -1.479661  1.139880  1.406819  ... -0.134435  0.076197  0.297537  0.307915   \n",
       "1 -0.002192  0.674782  0.045826  ... -0.227279  0.038628  0.228197  0.035542   \n",
       "2 -2.212603 -5.037523  0.000772  ...  1.280856 -2.798352  0.109526 -0.436530   \n",
       "3 -1.427984  0.010010 -1.118447  ... -0.490642 -0.139670  0.077013  0.208310   \n",
       "4  0.504347 -0.113817 -0.044782  ... -0.275297 -0.243245 -0.173298 -0.006692   \n",
       "\n",
       "        V24       V25       V26       V27       V28  Amount  \n",
       "0  0.690980 -0.350316 -0.388907  0.077641 -0.032248    7.32  \n",
       "1  0.707090  0.512885 -0.471198  0.002520 -0.069002    2.99  \n",
       "2 -0.932803  0.826684  0.913773  0.038049  0.185340  175.10  \n",
       "3 -0.538236 -0.278032 -0.162068  0.018045 -0.063005    6.10  \n",
       "4 -1.362383 -0.292234 -0.144622 -0.032580 -0.064194   86.10  \n",
       "\n",
       "[5 rows x 30 columns]"
      ]
     },
     "execution_count": 29,
     "metadata": {},
     "output_type": "execute_result"
    }
   ],
   "source": [
    "XY_resampled_train = pd.concat([majority_resampled_train_df, minority_resampled_train_df], axis=0).sort_index()\n",
    "\n",
    "X_cleaned_resampled_train = XY_resampled_train.drop(target_class_name, axis=1)\n",
    "Y_cleaned_resampled_train = XY_resampled_train[target_class_name]\n",
    "\n",
    "print(len(X_cleaned_resampled_train), sum(Y_cleaned_resampled_train))\n",
    "X_cleaned_resampled_train.head()"
   ]
  },
  {
   "cell_type": "markdown",
   "id": "78dd74f1-9c17-4b3c-8e64-a5591891e5cc",
   "metadata": {},
   "source": [
    "### <span style=\"color: #8be9fd\">Testing Performance Improvement</span>"
   ]
  },
  {
   "cell_type": "code",
   "execution_count": 30,
   "id": "1b22cb1d-86ab-4e7d-909c-7da2f9f2b00a",
   "metadata": {},
   "outputs": [
    {
     "name": "stdout",
     "output_type": "stream",
     "text": [
      "Has a Test accuracy of 100.0 % \n",
      "              precision    recall  f1-score   support\n",
      "\n",
      "   Non-Fraud       1.00      1.00      1.00     56864\n",
      "       Fraud       0.90      0.83      0.86        98\n",
      "\n",
      "    accuracy                           1.00     56962\n",
      "   macro avg       0.95      0.91      0.93     56962\n",
      "weighted avg       1.00      1.00      1.00     56962\n",
      "\n",
      "The ROC AUC Score on Test set is 0.95\n",
      "Confusion matrix, without normalization\n",
      "[[56855     9]\n",
      " [   17    81]]\n"
     ]
    },
    {
     "data": {
      "image/png": "[encoded data removed]",
      "text/plain": [
       "<Figure size 720x432 with 1 Axes>"
      ]
     },
     "metadata": {
      "needs_background": "light"
     },
     "output_type": "display_data"
    },
    {
     "data": {
      "image/png": "[encoded data removed]",
      "text/plain": [
       "<Figure size 576x288 with 2 Axes>"
      ]
     },
     "metadata": {
      "needs_background": "light"
     },
     "output_type": "display_data"
    },
    {
     "data": {
      "text/plain": [
       "Counter({'TN': 56855,\n",
       "         'TP': 81,\n",
       "         'FN': 17,\n",
       "         'FP': 9,\n",
       "         'Pos_Precision': 0.9,\n",
       "         'Pos_Recall': 0.826530612244898,\n",
       "         'Pos_F1': 0.8617021276595744,\n",
       "         'ROC AUC': 0.95,\n",
       "         'Precision_at_Recall': 0.865979381443299})"
      ]
     },
     "execution_count": 30,
     "metadata": {},
     "output_type": "execute_result"
    }
   ],
   "source": [
    "test_rf_performance_function(X_cleaned_resampled_train, Y_cleaned_resampled_train, X_test, Y_test, labels)"
   ]
  },
  {
   "cell_type": "code",
   "execution_count": 31,
   "id": "b8c051b3-9461-4043-a407-5a01e51e2d4e",
   "metadata": {},
   "outputs": [
    {
     "data": {
      "text/html": [
       "<div>\n",
       "<style scoped>\n",
       "    .dataframe tbody tr th:only-of-type {\n",
       "        vertical-align: middle;\n",
       "    }\n",
       "\n",
       "    .dataframe tbody tr th {\n",
       "        vertical-align: top;\n",
       "    }\n",
       "\n",
       "    .dataframe thead th {\n",
       "        text-align: right;\n",
       "    }\n",
       "</style>\n",
       "<table border=\"1\" class=\"dataframe\">\n",
       "  <thead>\n",
       "    <tr style=\"text-align: right;\">\n",
       "      <th></th>\n",
       "      <th>Time</th>\n",
       "      <th>V1</th>\n",
       "      <th>V2</th>\n",
       "      <th>V3</th>\n",
       "      <th>V4</th>\n",
       "      <th>V5</th>\n",
       "      <th>V6</th>\n",
       "      <th>V7</th>\n",
       "      <th>V8</th>\n",
       "      <th>V9</th>\n",
       "      <th>...</th>\n",
       "      <th>V20</th>\n",
       "      <th>V21</th>\n",
       "      <th>V22</th>\n",
       "      <th>V23</th>\n",
       "      <th>V24</th>\n",
       "      <th>V25</th>\n",
       "      <th>V26</th>\n",
       "      <th>V27</th>\n",
       "      <th>V28</th>\n",
       "      <th>Amount</th>\n",
       "    </tr>\n",
       "  </thead>\n",
       "  <tbody>\n",
       "    <tr>\n",
       "      <th>326392</th>\n",
       "      <td>56061.0</td>\n",
       "      <td>0.946201</td>\n",
       "      <td>2.723038</td>\n",
       "      <td>1.188370</td>\n",
       "      <td>-2.071029</td>\n",
       "      <td>-0.645028</td>\n",
       "      <td>0.058043</td>\n",
       "      <td>-0.710116</td>\n",
       "      <td>0.771046</td>\n",
       "      <td>-2.019551</td>\n",
       "      <td>...</td>\n",
       "      <td>0.141561</td>\n",
       "      <td>-0.169184</td>\n",
       "      <td>-0.845637</td>\n",
       "      <td>0.339060</td>\n",
       "      <td>-0.811356</td>\n",
       "      <td>0.148259</td>\n",
       "      <td>0.361756</td>\n",
       "      <td>-0.118261</td>\n",
       "      <td>-0.035589</td>\n",
       "      <td>10.00</td>\n",
       "    </tr>\n",
       "    <tr>\n",
       "      <th>387028</th>\n",
       "      <td>1517.0</td>\n",
       "      <td>-0.627577</td>\n",
       "      <td>1.002469</td>\n",
       "      <td>-0.983580</td>\n",
       "      <td>-0.565997</td>\n",
       "      <td>-1.335970</td>\n",
       "      <td>-0.707282</td>\n",
       "      <td>1.128648</td>\n",
       "      <td>0.559435</td>\n",
       "      <td>0.322307</td>\n",
       "      <td>...</td>\n",
       "      <td>0.087964</td>\n",
       "      <td>0.630732</td>\n",
       "      <td>-0.824070</td>\n",
       "      <td>0.115238</td>\n",
       "      <td>0.486069</td>\n",
       "      <td>-0.295006</td>\n",
       "      <td>-0.228363</td>\n",
       "      <td>-0.625565</td>\n",
       "      <td>-0.052095</td>\n",
       "      <td>15.45</td>\n",
       "    </tr>\n",
       "    <tr>\n",
       "      <th>163142</th>\n",
       "      <td>91929.0</td>\n",
       "      <td>0.215073</td>\n",
       "      <td>-0.295067</td>\n",
       "      <td>1.500247</td>\n",
       "      <td>-1.463686</td>\n",
       "      <td>-0.570438</td>\n",
       "      <td>0.951431</td>\n",
       "      <td>-0.924938</td>\n",
       "      <td>0.188670</td>\n",
       "      <td>1.626176</td>\n",
       "      <td>...</td>\n",
       "      <td>0.034225</td>\n",
       "      <td>0.035657</td>\n",
       "      <td>0.628107</td>\n",
       "      <td>-0.049854</td>\n",
       "      <td>0.182715</td>\n",
       "      <td>-0.453174</td>\n",
       "      <td>-0.304186</td>\n",
       "      <td>-0.044989</td>\n",
       "      <td>0.008168</td>\n",
       "      <td>10.89</td>\n",
       "    </tr>\n",
       "    <tr>\n",
       "      <th>10523</th>\n",
       "      <td>30426.0</td>\n",
       "      <td>-1.182199</td>\n",
       "      <td>0.187027</td>\n",
       "      <td>1.943799</td>\n",
       "      <td>-1.639044</td>\n",
       "      <td>-0.950472</td>\n",
       "      <td>-0.596769</td>\n",
       "      <td>-0.636670</td>\n",
       "      <td>0.544201</td>\n",
       "      <td>-1.250241</td>\n",
       "      <td>...</td>\n",
       "      <td>0.249440</td>\n",
       "      <td>0.553752</td>\n",
       "      <td>1.444296</td>\n",
       "      <td>-0.165767</td>\n",
       "      <td>0.464758</td>\n",
       "      <td>0.084961</td>\n",
       "      <td>-0.178507</td>\n",
       "      <td>0.248975</td>\n",
       "      <td>0.065126</td>\n",
       "      <td>19.99</td>\n",
       "    </tr>\n",
       "    <tr>\n",
       "      <th>402077</th>\n",
       "      <td>68796.0</td>\n",
       "      <td>-1.181072</td>\n",
       "      <td>-0.091066</td>\n",
       "      <td>1.589540</td>\n",
       "      <td>1.056389</td>\n",
       "      <td>1.130490</td>\n",
       "      <td>1.347457</td>\n",
       "      <td>0.181419</td>\n",
       "      <td>0.228698</td>\n",
       "      <td>0.291059</td>\n",
       "      <td>...</td>\n",
       "      <td>-0.102249</td>\n",
       "      <td>0.098985</td>\n",
       "      <td>0.180486</td>\n",
       "      <td>0.064767</td>\n",
       "      <td>0.005463</td>\n",
       "      <td>0.039004</td>\n",
       "      <td>-0.307554</td>\n",
       "      <td>-0.067967</td>\n",
       "      <td>0.010975</td>\n",
       "      <td>542.21</td>\n",
       "    </tr>\n",
       "  </tbody>\n",
       "</table>\n",
       "<p>5 rows × 30 columns</p>\n",
       "</div>"
      ],
      "text/plain": [
       "           Time        V1        V2        V3        V4        V5        V6  \\\n",
       "326392  56061.0  0.946201  2.723038  1.188370 -2.071029 -0.645028  0.058043   \n",
       "387028   1517.0 -0.627577  1.002469 -0.983580 -0.565997 -1.335970 -0.707282   \n",
       "163142  91929.0  0.215073 -0.295067  1.500247 -1.463686 -0.570438  0.951431   \n",
       "10523   30426.0 -1.182199  0.187027  1.943799 -1.639044 -0.950472 -0.596769   \n",
       "402077  68796.0 -1.181072 -0.091066  1.589540  1.056389  1.130490  1.347457   \n",
       "\n",
       "              V7        V8        V9  ...       V20       V21       V22  \\\n",
       "326392 -0.710116  0.771046 -2.019551  ...  0.141561 -0.169184 -0.845637   \n",
       "387028  1.128648  0.559435  0.322307  ...  0.087964  0.630732 -0.824070   \n",
       "163142 -0.924938  0.188670  1.626176  ...  0.034225  0.035657  0.628107   \n",
       "10523  -0.636670  0.544201 -1.250241  ...  0.249440  0.553752  1.444296   \n",
       "402077  0.181419  0.228698  0.291059  ... -0.102249  0.098985  0.180486   \n",
       "\n",
       "             V23       V24       V25       V26       V27       V28  Amount  \n",
       "326392  0.339060 -0.811356  0.148259  0.361756 -0.118261 -0.035589   10.00  \n",
       "387028  0.115238  0.486069 -0.295006 -0.228363 -0.625565 -0.052095   15.45  \n",
       "163142 -0.049854  0.182715 -0.453174 -0.304186 -0.044989  0.008168   10.89  \n",
       "10523  -0.165767  0.464758  0.084961 -0.178507  0.248975  0.065126   19.99  \n",
       "402077  0.064767  0.005463  0.039004 -0.307554 -0.067967  0.010975  542.21  \n",
       "\n",
       "[5 rows x 30 columns]"
      ]
     },
     "execution_count": 31,
     "metadata": {},
     "output_type": "execute_result"
    }
   ],
   "source": [
    "X_resampled_train.head()"
   ]
  },
  {
   "cell_type": "code",
   "execution_count": 32,
   "id": "21643b8b-d2fb-4fa5-a13e-1240f0614192",
   "metadata": {},
   "outputs": [],
   "source": [
    "from helper_functions_comprehensive import data_export_function"
   ]
  },
  {
   "cell_type": "code",
   "execution_count": 33,
   "id": "5af065fc-4608-44b1-94e2-9b113237cea6",
   "metadata": {},
   "outputs": [],
   "source": [
    "data_export_function(\n",
    "    X_resampled_train, Y_resampled_train, Y_train, Y_test, intermediate_data_path, output_df_file_name, export_date\n",
    ")"
   ]
  },
  {
   "cell_type": "code",
   "execution_count": null,
   "id": "96cef34f-e49f-497f-986d-5d2d1f809f13",
   "metadata": {},
   "outputs": [],
   "source": []
  }
 ],
 "metadata": {
  "kernelspec": {
   "display_name": "Python 3",
   "language": "python",
   "name": "python3"
  },
  "language_info": {
   "codemirror_mode": {
    "name": "ipython",
    "version": 3
   },
   "file_extension": ".py",
   "mimetype": "text/x-python",
   "name": "python",
   "nbconvert_exporter": "python",
   "pygments_lexer": "ipython3",
   "version": "3.8.5"
  }
 },
 "nbformat": 4,
 "nbformat_minor": 5
}
