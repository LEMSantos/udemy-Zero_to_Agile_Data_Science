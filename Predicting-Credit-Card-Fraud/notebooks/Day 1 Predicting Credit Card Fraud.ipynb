{
 "cells": [
  {
   "cell_type": "markdown",
   "id": "2412aefa-0b69-49c8-a50f-d6077b3d1db9",
   "metadata": {},
   "source": [
    "# <a href=\"https://www.kaggle.com/mlg-ulb/creditcardfraud\">Kaggle Problem Introduction (Credit Card Fraud Detection)<a>"
   ]
  },
  {
   "cell_type": "markdown",
   "id": "107a804e-9e70-4044-9073-6130f0eb65e5",
   "metadata": {},
   "source": [
    "## <span style=\"color: #8be9fd\">Context</span>\n",
    "\n",
    "It is important that credit card companies are able to recognize fraudulent credit card transactions so that customers are not charged for items that they did not purchase.\n",
    "\n",
    "## <span style=\"color: #8be9fd\">Content</span>\n",
    "\n",
    "The dataset contains transactions made by credit cards in September 2013 by European cardholders.\n",
    "This dataset presents transactions that occurred in two days, where we have 492 frauds out of 284,807 transactions. The dataset is highly unbalanced, the positive class (frauds) account for 0.172% of all transactions.\n",
    "\n",
    "It contains only numerical input variables which are the result of a PCA transformation. Unfortunately, due to confidentiality issues, we cannot provide the original features and more background information about the data. Features V1, V2, … V28 are the principal components obtained with PCA, the only features which have not been transformed with PCA are 'Time' and 'Amount'. Feature 'Time' contains the seconds elapsed between each transaction and the first transaction in the dataset. The feature 'Amount' is the transaction Amount, this feature can be used for example-dependant cost-sensitive learning. Feature 'Class' is the response variable and it takes value 1 in case of fraud and 0 otherwise.\n",
    "\n",
    "Given the class imbalance ratio, we recommend measuring the accuracy using the Area Under the Precision-Recall Curve (AUPRC). Confusion matrix accuracy is not meaningful for unbalanced classification."
   ]
  },
  {
   "cell_type": "code",
   "execution_count": 1,
   "id": "cf7818b0-20a5-408c-80a5-bd8a820d10fd",
   "metadata": {},
   "outputs": [],
   "source": [
    "import pandas as pd\n",
    "import numpy as np\n",
    "\n",
    "import matplotlib.pyplot as plt\n",
    "%matplotlib inline\n",
    "\n",
    "import warnings\n",
    "warnings.filterwarnings('ignore')\n",
    "\n",
    "from dotenv import load_dotenv\n",
    "load_dotenv()\n",
    "\n",
    "import os\n",
    "\n",
    "import sys\n",
    "sys.path.append(os.environ.get('PROJECT_PATH'))"
   ]
  },
  {
   "cell_type": "markdown",
   "id": "e23e776f-a52e-4ae6-b7a2-2db32e42cef8",
   "metadata": {},
   "source": [
    "# <span style=\"color: #8be9fd\">Define Metadata</span>"
   ]
  },
  {
   "cell_type": "code",
   "execution_count": 2,
   "id": "4ae023af-488b-46c9-a22b-36e24a5f0927",
   "metadata": {},
   "outputs": [],
   "source": [
    "from datetime import date\n",
    "\n",
    "target_class_name = 'Class'\n",
    "labels = ['Non-Fraud', 'Fraud']\n",
    "input_file_name = 'creditcard.csv'\n",
    "intermediate_data_path = '../data/intermediate/'\n",
    "output_df_file_name = 'day1_cleaned_df_output_'\n",
    "export_date = str(date.today().strftime('%Y%m%d'))"
   ]
  },
  {
   "cell_type": "code",
   "execution_count": 3,
   "id": "fa973f1b-55ff-42c5-a4d6-736131684ef3",
   "metadata": {},
   "outputs": [
    {
     "name": "stdout",
     "output_type": "stream",
     "text": [
      "['creditcard.csv', '.gitkeep']\n"
     ]
    }
   ],
   "source": [
    "print(os.listdir('../data/raw'))"
   ]
  },
  {
   "cell_type": "markdown",
   "id": "63c6f0fa-73da-407f-8aa5-d27f4a0819bc",
   "metadata": {},
   "source": [
    "# <span style=\"color: #8be9fd\">Load Data</span>"
   ]
  },
  {
   "cell_type": "code",
   "execution_count": 4,
   "id": "a7c4a146-2522-4599-95b8-a1536ee83cab",
   "metadata": {},
   "outputs": [
    {
     "name": "stdout",
     "output_type": "stream",
     "text": [
      "(284807, 31)\n"
     ]
    },
    {
     "data": {
      "text/html": [
       "<div>\n",
       "<style scoped>\n",
       "    .dataframe tbody tr th:only-of-type {\n",
       "        vertical-align: middle;\n",
       "    }\n",
       "\n",
       "    .dataframe tbody tr th {\n",
       "        vertical-align: top;\n",
       "    }\n",
       "\n",
       "    .dataframe thead th {\n",
       "        text-align: right;\n",
       "    }\n",
       "</style>\n",
       "<table border=\"1\" class=\"dataframe\">\n",
       "  <thead>\n",
       "    <tr style=\"text-align: right;\">\n",
       "      <th></th>\n",
       "      <th>Time</th>\n",
       "      <th>V1</th>\n",
       "      <th>V2</th>\n",
       "      <th>V3</th>\n",
       "      <th>V4</th>\n",
       "      <th>V5</th>\n",
       "      <th>V6</th>\n",
       "      <th>V7</th>\n",
       "      <th>V8</th>\n",
       "      <th>V9</th>\n",
       "      <th>...</th>\n",
       "      <th>V21</th>\n",
       "      <th>V22</th>\n",
       "      <th>V23</th>\n",
       "      <th>V24</th>\n",
       "      <th>V25</th>\n",
       "      <th>V26</th>\n",
       "      <th>V27</th>\n",
       "      <th>V28</th>\n",
       "      <th>Amount</th>\n",
       "      <th>Class</th>\n",
       "    </tr>\n",
       "  </thead>\n",
       "  <tbody>\n",
       "    <tr>\n",
       "      <th>46517</th>\n",
       "      <td>42818.0</td>\n",
       "      <td>-0.524745</td>\n",
       "      <td>1.543894</td>\n",
       "      <td>-0.116618</td>\n",
       "      <td>0.735187</td>\n",
       "      <td>0.264208</td>\n",
       "      <td>-0.748724</td>\n",
       "      <td>0.812690</td>\n",
       "      <td>-0.015082</td>\n",
       "      <td>0.260426</td>\n",
       "      <td>...</td>\n",
       "      <td>0.054903</td>\n",
       "      <td>0.538515</td>\n",
       "      <td>0.088442</td>\n",
       "      <td>0.038373</td>\n",
       "      <td>-0.681421</td>\n",
       "      <td>-0.367253</td>\n",
       "      <td>0.766320</td>\n",
       "      <td>0.401336</td>\n",
       "      <td>3.76</td>\n",
       "      <td>0</td>\n",
       "    </tr>\n",
       "    <tr>\n",
       "      <th>32219</th>\n",
       "      <td>36691.0</td>\n",
       "      <td>1.069204</td>\n",
       "      <td>-0.030309</td>\n",
       "      <td>1.440341</td>\n",
       "      <td>2.878515</td>\n",
       "      <td>-0.773158</td>\n",
       "      <td>0.822097</td>\n",
       "      <td>-0.790313</td>\n",
       "      <td>0.430257</td>\n",
       "      <td>0.689065</td>\n",
       "      <td>...</td>\n",
       "      <td>0.030640</td>\n",
       "      <td>0.410578</td>\n",
       "      <td>-0.080451</td>\n",
       "      <td>0.087772</td>\n",
       "      <td>0.492451</td>\n",
       "      <td>0.247803</td>\n",
       "      <td>0.055162</td>\n",
       "      <td>0.020245</td>\n",
       "      <td>0.00</td>\n",
       "      <td>0</td>\n",
       "    </tr>\n",
       "    <tr>\n",
       "      <th>142786</th>\n",
       "      <td>84934.0</td>\n",
       "      <td>1.412410</td>\n",
       "      <td>-1.268863</td>\n",
       "      <td>0.948591</td>\n",
       "      <td>-1.256518</td>\n",
       "      <td>-1.993313</td>\n",
       "      <td>-0.498289</td>\n",
       "      <td>-1.469104</td>\n",
       "      <td>0.070948</td>\n",
       "      <td>-1.355551</td>\n",
       "      <td>...</td>\n",
       "      <td>0.033721</td>\n",
       "      <td>0.480930</td>\n",
       "      <td>0.047677</td>\n",
       "      <td>0.378171</td>\n",
       "      <td>0.206394</td>\n",
       "      <td>-0.034109</td>\n",
       "      <td>0.062499</td>\n",
       "      <td>0.025898</td>\n",
       "      <td>19.99</td>\n",
       "      <td>0</td>\n",
       "    </tr>\n",
       "    <tr>\n",
       "      <th>152710</th>\n",
       "      <td>97444.0</td>\n",
       "      <td>-0.776538</td>\n",
       "      <td>-0.673775</td>\n",
       "      <td>1.744029</td>\n",
       "      <td>-0.686797</td>\n",
       "      <td>0.498103</td>\n",
       "      <td>-0.426698</td>\n",
       "      <td>-0.700220</td>\n",
       "      <td>0.300125</td>\n",
       "      <td>1.861253</td>\n",
       "      <td>...</td>\n",
       "      <td>0.023476</td>\n",
       "      <td>-0.019625</td>\n",
       "      <td>0.160522</td>\n",
       "      <td>-0.402799</td>\n",
       "      <td>-0.292995</td>\n",
       "      <td>0.355505</td>\n",
       "      <td>-0.121383</td>\n",
       "      <td>-0.042329</td>\n",
       "      <td>39.00</td>\n",
       "      <td>0</td>\n",
       "    </tr>\n",
       "    <tr>\n",
       "      <th>252515</th>\n",
       "      <td>155842.0</td>\n",
       "      <td>2.066601</td>\n",
       "      <td>0.087157</td>\n",
       "      <td>-1.681138</td>\n",
       "      <td>0.451865</td>\n",
       "      <td>0.274481</td>\n",
       "      <td>-0.964245</td>\n",
       "      <td>0.119329</td>\n",
       "      <td>-0.185681</td>\n",
       "      <td>0.640321</td>\n",
       "      <td>...</td>\n",
       "      <td>-0.369366</td>\n",
       "      <td>-1.008775</td>\n",
       "      <td>0.364512</td>\n",
       "      <td>0.610918</td>\n",
       "      <td>-0.306220</td>\n",
       "      <td>0.168638</td>\n",
       "      <td>-0.069226</td>\n",
       "      <td>-0.031545</td>\n",
       "      <td>1.98</td>\n",
       "      <td>0</td>\n",
       "    </tr>\n",
       "  </tbody>\n",
       "</table>\n",
       "<p>5 rows × 31 columns</p>\n",
       "</div>"
      ],
      "text/plain": [
       "            Time        V1        V2        V3        V4        V5        V6  \\\n",
       "46517    42818.0 -0.524745  1.543894 -0.116618  0.735187  0.264208 -0.748724   \n",
       "32219    36691.0  1.069204 -0.030309  1.440341  2.878515 -0.773158  0.822097   \n",
       "142786   84934.0  1.412410 -1.268863  0.948591 -1.256518 -1.993313 -0.498289   \n",
       "152710   97444.0 -0.776538 -0.673775  1.744029 -0.686797  0.498103 -0.426698   \n",
       "252515  155842.0  2.066601  0.087157 -1.681138  0.451865  0.274481 -0.964245   \n",
       "\n",
       "              V7        V8        V9  ...       V21       V22       V23  \\\n",
       "46517   0.812690 -0.015082  0.260426  ...  0.054903  0.538515  0.088442   \n",
       "32219  -0.790313  0.430257  0.689065  ...  0.030640  0.410578 -0.080451   \n",
       "142786 -1.469104  0.070948 -1.355551  ...  0.033721  0.480930  0.047677   \n",
       "152710 -0.700220  0.300125  1.861253  ...  0.023476 -0.019625  0.160522   \n",
       "252515  0.119329 -0.185681  0.640321  ... -0.369366 -1.008775  0.364512   \n",
       "\n",
       "             V24       V25       V26       V27       V28  Amount  Class  \n",
       "46517   0.038373 -0.681421 -0.367253  0.766320  0.401336    3.76      0  \n",
       "32219   0.087772  0.492451  0.247803  0.055162  0.020245    0.00      0  \n",
       "142786  0.378171  0.206394 -0.034109  0.062499  0.025898   19.99      0  \n",
       "152710 -0.402799 -0.292995  0.355505 -0.121383 -0.042329   39.00      0  \n",
       "252515  0.610918 -0.306220  0.168638 -0.069226 -0.031545    1.98      0  \n",
       "\n",
       "[5 rows x 31 columns]"
      ]
     },
     "execution_count": 4,
     "metadata": {},
     "output_type": "execute_result"
    }
   ],
   "source": [
    "df = pd.read_csv(f'../data/raw/{input_file_name}')\n",
    "print(df.shape)\n",
    "df.sample(5)"
   ]
  },
  {
   "cell_type": "code",
   "execution_count": 5,
   "id": "e2129b8b-d092-4671-b91e-1a85c4e8e981",
   "metadata": {},
   "outputs": [
    {
     "data": {
      "text/html": [
       "<div>\n",
       "<style scoped>\n",
       "    .dataframe tbody tr th:only-of-type {\n",
       "        vertical-align: middle;\n",
       "    }\n",
       "\n",
       "    .dataframe tbody tr th {\n",
       "        vertical-align: top;\n",
       "    }\n",
       "\n",
       "    .dataframe thead th {\n",
       "        text-align: right;\n",
       "    }\n",
       "</style>\n",
       "<table border=\"1\" class=\"dataframe\">\n",
       "  <thead>\n",
       "    <tr style=\"text-align: right;\">\n",
       "      <th></th>\n",
       "      <th>Time</th>\n",
       "      <th>V1</th>\n",
       "      <th>V2</th>\n",
       "      <th>V3</th>\n",
       "      <th>V4</th>\n",
       "      <th>V5</th>\n",
       "      <th>V6</th>\n",
       "      <th>V7</th>\n",
       "      <th>V8</th>\n",
       "      <th>V9</th>\n",
       "      <th>...</th>\n",
       "      <th>V21</th>\n",
       "      <th>V22</th>\n",
       "      <th>V23</th>\n",
       "      <th>V24</th>\n",
       "      <th>V25</th>\n",
       "      <th>V26</th>\n",
       "      <th>V27</th>\n",
       "      <th>V28</th>\n",
       "      <th>Amount</th>\n",
       "      <th>Class</th>\n",
       "    </tr>\n",
       "  </thead>\n",
       "  <tbody>\n",
       "    <tr>\n",
       "      <th>0</th>\n",
       "      <td>0.0</td>\n",
       "      <td>-1.359807</td>\n",
       "      <td>-0.072781</td>\n",
       "      <td>2.536347</td>\n",
       "      <td>1.378155</td>\n",
       "      <td>-0.338321</td>\n",
       "      <td>0.462388</td>\n",
       "      <td>0.239599</td>\n",
       "      <td>0.098698</td>\n",
       "      <td>0.363787</td>\n",
       "      <td>...</td>\n",
       "      <td>-0.018307</td>\n",
       "      <td>0.277838</td>\n",
       "      <td>-0.110474</td>\n",
       "      <td>0.066928</td>\n",
       "      <td>0.128539</td>\n",
       "      <td>-0.189115</td>\n",
       "      <td>0.133558</td>\n",
       "      <td>-0.021053</td>\n",
       "      <td>149.62</td>\n",
       "      <td>0</td>\n",
       "    </tr>\n",
       "    <tr>\n",
       "      <th>1</th>\n",
       "      <td>0.0</td>\n",
       "      <td>1.191857</td>\n",
       "      <td>0.266151</td>\n",
       "      <td>0.166480</td>\n",
       "      <td>0.448154</td>\n",
       "      <td>0.060018</td>\n",
       "      <td>-0.082361</td>\n",
       "      <td>-0.078803</td>\n",
       "      <td>0.085102</td>\n",
       "      <td>-0.255425</td>\n",
       "      <td>...</td>\n",
       "      <td>-0.225775</td>\n",
       "      <td>-0.638672</td>\n",
       "      <td>0.101288</td>\n",
       "      <td>-0.339846</td>\n",
       "      <td>0.167170</td>\n",
       "      <td>0.125895</td>\n",
       "      <td>-0.008983</td>\n",
       "      <td>0.014724</td>\n",
       "      <td>2.69</td>\n",
       "      <td>0</td>\n",
       "    </tr>\n",
       "    <tr>\n",
       "      <th>2</th>\n",
       "      <td>1.0</td>\n",
       "      <td>-1.358354</td>\n",
       "      <td>-1.340163</td>\n",
       "      <td>1.773209</td>\n",
       "      <td>0.379780</td>\n",
       "      <td>-0.503198</td>\n",
       "      <td>1.800499</td>\n",
       "      <td>0.791461</td>\n",
       "      <td>0.247676</td>\n",
       "      <td>-1.514654</td>\n",
       "      <td>...</td>\n",
       "      <td>0.247998</td>\n",
       "      <td>0.771679</td>\n",
       "      <td>0.909412</td>\n",
       "      <td>-0.689281</td>\n",
       "      <td>-0.327642</td>\n",
       "      <td>-0.139097</td>\n",
       "      <td>-0.055353</td>\n",
       "      <td>-0.059752</td>\n",
       "      <td>378.66</td>\n",
       "      <td>0</td>\n",
       "    </tr>\n",
       "  </tbody>\n",
       "</table>\n",
       "<p>3 rows × 31 columns</p>\n",
       "</div>"
      ],
      "text/plain": [
       "   Time        V1        V2        V3        V4        V5        V6        V7  \\\n",
       "0   0.0 -1.359807 -0.072781  2.536347  1.378155 -0.338321  0.462388  0.239599   \n",
       "1   0.0  1.191857  0.266151  0.166480  0.448154  0.060018 -0.082361 -0.078803   \n",
       "2   1.0 -1.358354 -1.340163  1.773209  0.379780 -0.503198  1.800499  0.791461   \n",
       "\n",
       "         V8        V9  ...       V21       V22       V23       V24       V25  \\\n",
       "0  0.098698  0.363787  ... -0.018307  0.277838 -0.110474  0.066928  0.128539   \n",
       "1  0.085102 -0.255425  ... -0.225775 -0.638672  0.101288 -0.339846  0.167170   \n",
       "2  0.247676 -1.514654  ...  0.247998  0.771679  0.909412 -0.689281 -0.327642   \n",
       "\n",
       "        V26       V27       V28  Amount  Class  \n",
       "0 -0.189115  0.133558 -0.021053  149.62      0  \n",
       "1  0.125895 -0.008983  0.014724    2.69      0  \n",
       "2 -0.139097 -0.055353 -0.059752  378.66      0  \n",
       "\n",
       "[3 rows x 31 columns]"
      ]
     },
     "execution_count": 5,
     "metadata": {},
     "output_type": "execute_result"
    }
   ],
   "source": [
    "df.head(3)"
   ]
  },
  {
   "cell_type": "code",
   "execution_count": 6,
   "id": "484023e9-8571-4847-99a1-d9175b7999bf",
   "metadata": {},
   "outputs": [
    {
     "data": {
      "text/html": [
       "<div>\n",
       "<style scoped>\n",
       "    .dataframe tbody tr th:only-of-type {\n",
       "        vertical-align: middle;\n",
       "    }\n",
       "\n",
       "    .dataframe tbody tr th {\n",
       "        vertical-align: top;\n",
       "    }\n",
       "\n",
       "    .dataframe thead th {\n",
       "        text-align: right;\n",
       "    }\n",
       "</style>\n",
       "<table border=\"1\" class=\"dataframe\">\n",
       "  <thead>\n",
       "    <tr style=\"text-align: right;\">\n",
       "      <th></th>\n",
       "      <th>Time</th>\n",
       "      <th>V1</th>\n",
       "      <th>V2</th>\n",
       "      <th>V3</th>\n",
       "      <th>V4</th>\n",
       "      <th>V5</th>\n",
       "      <th>V6</th>\n",
       "      <th>V7</th>\n",
       "      <th>V8</th>\n",
       "      <th>V9</th>\n",
       "      <th>...</th>\n",
       "      <th>V21</th>\n",
       "      <th>V22</th>\n",
       "      <th>V23</th>\n",
       "      <th>V24</th>\n",
       "      <th>V25</th>\n",
       "      <th>V26</th>\n",
       "      <th>V27</th>\n",
       "      <th>V28</th>\n",
       "      <th>Amount</th>\n",
       "      <th>Class</th>\n",
       "    </tr>\n",
       "  </thead>\n",
       "  <tbody>\n",
       "    <tr>\n",
       "      <th>284804</th>\n",
       "      <td>172788.0</td>\n",
       "      <td>1.919565</td>\n",
       "      <td>-0.301254</td>\n",
       "      <td>-3.249640</td>\n",
       "      <td>-0.557828</td>\n",
       "      <td>2.630515</td>\n",
       "      <td>3.031260</td>\n",
       "      <td>-0.296827</td>\n",
       "      <td>0.708417</td>\n",
       "      <td>0.432454</td>\n",
       "      <td>...</td>\n",
       "      <td>0.232045</td>\n",
       "      <td>0.578229</td>\n",
       "      <td>-0.037501</td>\n",
       "      <td>0.640134</td>\n",
       "      <td>0.265745</td>\n",
       "      <td>-0.087371</td>\n",
       "      <td>0.004455</td>\n",
       "      <td>-0.026561</td>\n",
       "      <td>67.88</td>\n",
       "      <td>0</td>\n",
       "    </tr>\n",
       "    <tr>\n",
       "      <th>284805</th>\n",
       "      <td>172788.0</td>\n",
       "      <td>-0.240440</td>\n",
       "      <td>0.530483</td>\n",
       "      <td>0.702510</td>\n",
       "      <td>0.689799</td>\n",
       "      <td>-0.377961</td>\n",
       "      <td>0.623708</td>\n",
       "      <td>-0.686180</td>\n",
       "      <td>0.679145</td>\n",
       "      <td>0.392087</td>\n",
       "      <td>...</td>\n",
       "      <td>0.265245</td>\n",
       "      <td>0.800049</td>\n",
       "      <td>-0.163298</td>\n",
       "      <td>0.123205</td>\n",
       "      <td>-0.569159</td>\n",
       "      <td>0.546668</td>\n",
       "      <td>0.108821</td>\n",
       "      <td>0.104533</td>\n",
       "      <td>10.00</td>\n",
       "      <td>0</td>\n",
       "    </tr>\n",
       "    <tr>\n",
       "      <th>284806</th>\n",
       "      <td>172792.0</td>\n",
       "      <td>-0.533413</td>\n",
       "      <td>-0.189733</td>\n",
       "      <td>0.703337</td>\n",
       "      <td>-0.506271</td>\n",
       "      <td>-0.012546</td>\n",
       "      <td>-0.649617</td>\n",
       "      <td>1.577006</td>\n",
       "      <td>-0.414650</td>\n",
       "      <td>0.486180</td>\n",
       "      <td>...</td>\n",
       "      <td>0.261057</td>\n",
       "      <td>0.643078</td>\n",
       "      <td>0.376777</td>\n",
       "      <td>0.008797</td>\n",
       "      <td>-0.473649</td>\n",
       "      <td>-0.818267</td>\n",
       "      <td>-0.002415</td>\n",
       "      <td>0.013649</td>\n",
       "      <td>217.00</td>\n",
       "      <td>0</td>\n",
       "    </tr>\n",
       "  </tbody>\n",
       "</table>\n",
       "<p>3 rows × 31 columns</p>\n",
       "</div>"
      ],
      "text/plain": [
       "            Time        V1        V2        V3        V4        V5        V6  \\\n",
       "284804  172788.0  1.919565 -0.301254 -3.249640 -0.557828  2.630515  3.031260   \n",
       "284805  172788.0 -0.240440  0.530483  0.702510  0.689799 -0.377961  0.623708   \n",
       "284806  172792.0 -0.533413 -0.189733  0.703337 -0.506271 -0.012546 -0.649617   \n",
       "\n",
       "              V7        V8        V9  ...       V21       V22       V23  \\\n",
       "284804 -0.296827  0.708417  0.432454  ...  0.232045  0.578229 -0.037501   \n",
       "284805 -0.686180  0.679145  0.392087  ...  0.265245  0.800049 -0.163298   \n",
       "284806  1.577006 -0.414650  0.486180  ...  0.261057  0.643078  0.376777   \n",
       "\n",
       "             V24       V25       V26       V27       V28  Amount  Class  \n",
       "284804  0.640134  0.265745 -0.087371  0.004455 -0.026561   67.88      0  \n",
       "284805  0.123205 -0.569159  0.546668  0.108821  0.104533   10.00      0  \n",
       "284806  0.008797 -0.473649 -0.818267 -0.002415  0.013649  217.00      0  \n",
       "\n",
       "[3 rows x 31 columns]"
      ]
     },
     "execution_count": 6,
     "metadata": {},
     "output_type": "execute_result"
    }
   ],
   "source": [
    "df.tail(3)"
   ]
  },
  {
   "cell_type": "markdown",
   "id": "2cdd081b-ca9d-4fd5-bdad-0319f499fdb7",
   "metadata": {},
   "source": [
    "# <span style=\"color: #8be9fd\">Data Insights</span>"
   ]
  },
  {
   "cell_type": "markdown",
   "id": "a159c353-5cb2-4629-a750-e3761eb44d6a",
   "metadata": {},
   "source": [
    "## <span style=\"color: #8be9fd\">Data Structure</span>"
   ]
  },
  {
   "cell_type": "code",
   "execution_count": 7,
   "id": "f87b9b4e-2431-4153-936c-83a048ddd17c",
   "metadata": {},
   "outputs": [
    {
     "name": "stdout",
     "output_type": "stream",
     "text": [
      "<class 'pandas.core.frame.DataFrame'>\n",
      "RangeIndex: 284807 entries, 0 to 284806\n",
      "Data columns (total 31 columns):\n",
      " #   Column  Non-Null Count   Dtype  \n",
      "---  ------  --------------   -----  \n",
      " 0   Time    284807 non-null  float64\n",
      " 1   V1      284807 non-null  float64\n",
      " 2   V2      284807 non-null  float64\n",
      " 3   V3      284807 non-null  float64\n",
      " 4   V4      284807 non-null  float64\n",
      " 5   V5      284807 non-null  float64\n",
      " 6   V6      284807 non-null  float64\n",
      " 7   V7      284807 non-null  float64\n",
      " 8   V8      284807 non-null  float64\n",
      " 9   V9      284807 non-null  float64\n",
      " 10  V10     284807 non-null  float64\n",
      " 11  V11     284807 non-null  float64\n",
      " 12  V12     284807 non-null  float64\n",
      " 13  V13     284807 non-null  float64\n",
      " 14  V14     284807 non-null  float64\n",
      " 15  V15     284807 non-null  float64\n",
      " 16  V16     284807 non-null  float64\n",
      " 17  V17     284807 non-null  float64\n",
      " 18  V18     284807 non-null  float64\n",
      " 19  V19     284807 non-null  float64\n",
      " 20  V20     284807 non-null  float64\n",
      " 21  V21     284807 non-null  float64\n",
      " 22  V22     284807 non-null  float64\n",
      " 23  V23     284807 non-null  float64\n",
      " 24  V24     284807 non-null  float64\n",
      " 25  V25     284807 non-null  float64\n",
      " 26  V26     284807 non-null  float64\n",
      " 27  V27     284807 non-null  float64\n",
      " 28  V28     284807 non-null  float64\n",
      " 29  Amount  284807 non-null  float64\n",
      " 30  Class   284807 non-null  int64  \n",
      "dtypes: float64(30), int64(1)\n",
      "memory usage: 67.4 MB\n"
     ]
    }
   ],
   "source": [
    "df.info()"
   ]
  },
  {
   "cell_type": "markdown",
   "id": "d3e3851e-6ea1-4903-93f2-93fe4fbd07ff",
   "metadata": {},
   "source": [
    "## <span style=\"color: #8be9fd\">Summary Stats</span>"
   ]
  },
  {
   "cell_type": "code",
   "execution_count": 8,
   "id": "79b2fbb5-0af6-459c-bd1f-4844f210f8bb",
   "metadata": {},
   "outputs": [
    {
     "data": {
      "text/html": [
       "<div>\n",
       "<style scoped>\n",
       "    .dataframe tbody tr th:only-of-type {\n",
       "        vertical-align: middle;\n",
       "    }\n",
       "\n",
       "    .dataframe tbody tr th {\n",
       "        vertical-align: top;\n",
       "    }\n",
       "\n",
       "    .dataframe thead th {\n",
       "        text-align: right;\n",
       "    }\n",
       "</style>\n",
       "<table border=\"1\" class=\"dataframe\">\n",
       "  <thead>\n",
       "    <tr style=\"text-align: right;\">\n",
       "      <th></th>\n",
       "      <th>Time</th>\n",
       "      <th>V1</th>\n",
       "      <th>V2</th>\n",
       "      <th>V3</th>\n",
       "      <th>V4</th>\n",
       "      <th>V5</th>\n",
       "      <th>V6</th>\n",
       "      <th>V7</th>\n",
       "      <th>V8</th>\n",
       "      <th>V9</th>\n",
       "      <th>...</th>\n",
       "      <th>V21</th>\n",
       "      <th>V22</th>\n",
       "      <th>V23</th>\n",
       "      <th>V24</th>\n",
       "      <th>V25</th>\n",
       "      <th>V26</th>\n",
       "      <th>V27</th>\n",
       "      <th>V28</th>\n",
       "      <th>Amount</th>\n",
       "      <th>Class</th>\n",
       "    </tr>\n",
       "  </thead>\n",
       "  <tbody>\n",
       "    <tr>\n",
       "      <th>count</th>\n",
       "      <td>284807.000000</td>\n",
       "      <td>2.848070e+05</td>\n",
       "      <td>2.848070e+05</td>\n",
       "      <td>2.848070e+05</td>\n",
       "      <td>2.848070e+05</td>\n",
       "      <td>2.848070e+05</td>\n",
       "      <td>2.848070e+05</td>\n",
       "      <td>2.848070e+05</td>\n",
       "      <td>2.848070e+05</td>\n",
       "      <td>2.848070e+05</td>\n",
       "      <td>...</td>\n",
       "      <td>2.848070e+05</td>\n",
       "      <td>2.848070e+05</td>\n",
       "      <td>2.848070e+05</td>\n",
       "      <td>2.848070e+05</td>\n",
       "      <td>2.848070e+05</td>\n",
       "      <td>2.848070e+05</td>\n",
       "      <td>2.848070e+05</td>\n",
       "      <td>2.848070e+05</td>\n",
       "      <td>284807.000000</td>\n",
       "      <td>284807.000000</td>\n",
       "    </tr>\n",
       "    <tr>\n",
       "      <th>mean</th>\n",
       "      <td>94813.859575</td>\n",
       "      <td>1.168375e-15</td>\n",
       "      <td>3.416908e-16</td>\n",
       "      <td>-1.379537e-15</td>\n",
       "      <td>2.074095e-15</td>\n",
       "      <td>9.604066e-16</td>\n",
       "      <td>1.487313e-15</td>\n",
       "      <td>-5.556467e-16</td>\n",
       "      <td>1.213481e-16</td>\n",
       "      <td>-2.406331e-15</td>\n",
       "      <td>...</td>\n",
       "      <td>1.654067e-16</td>\n",
       "      <td>-3.568593e-16</td>\n",
       "      <td>2.578648e-16</td>\n",
       "      <td>4.473266e-15</td>\n",
       "      <td>5.340915e-16</td>\n",
       "      <td>1.683437e-15</td>\n",
       "      <td>-3.660091e-16</td>\n",
       "      <td>-1.227390e-16</td>\n",
       "      <td>88.349619</td>\n",
       "      <td>0.001727</td>\n",
       "    </tr>\n",
       "    <tr>\n",
       "      <th>std</th>\n",
       "      <td>47488.145955</td>\n",
       "      <td>1.958696e+00</td>\n",
       "      <td>1.651309e+00</td>\n",
       "      <td>1.516255e+00</td>\n",
       "      <td>1.415869e+00</td>\n",
       "      <td>1.380247e+00</td>\n",
       "      <td>1.332271e+00</td>\n",
       "      <td>1.237094e+00</td>\n",
       "      <td>1.194353e+00</td>\n",
       "      <td>1.098632e+00</td>\n",
       "      <td>...</td>\n",
       "      <td>7.345240e-01</td>\n",
       "      <td>7.257016e-01</td>\n",
       "      <td>6.244603e-01</td>\n",
       "      <td>6.056471e-01</td>\n",
       "      <td>5.212781e-01</td>\n",
       "      <td>4.822270e-01</td>\n",
       "      <td>4.036325e-01</td>\n",
       "      <td>3.300833e-01</td>\n",
       "      <td>250.120109</td>\n",
       "      <td>0.041527</td>\n",
       "    </tr>\n",
       "    <tr>\n",
       "      <th>min</th>\n",
       "      <td>0.000000</td>\n",
       "      <td>-5.640751e+01</td>\n",
       "      <td>-7.271573e+01</td>\n",
       "      <td>-4.832559e+01</td>\n",
       "      <td>-5.683171e+00</td>\n",
       "      <td>-1.137433e+02</td>\n",
       "      <td>-2.616051e+01</td>\n",
       "      <td>-4.355724e+01</td>\n",
       "      <td>-7.321672e+01</td>\n",
       "      <td>-1.343407e+01</td>\n",
       "      <td>...</td>\n",
       "      <td>-3.483038e+01</td>\n",
       "      <td>-1.093314e+01</td>\n",
       "      <td>-4.480774e+01</td>\n",
       "      <td>-2.836627e+00</td>\n",
       "      <td>-1.029540e+01</td>\n",
       "      <td>-2.604551e+00</td>\n",
       "      <td>-2.256568e+01</td>\n",
       "      <td>-1.543008e+01</td>\n",
       "      <td>0.000000</td>\n",
       "      <td>0.000000</td>\n",
       "    </tr>\n",
       "    <tr>\n",
       "      <th>25%</th>\n",
       "      <td>54201.500000</td>\n",
       "      <td>-9.203734e-01</td>\n",
       "      <td>-5.985499e-01</td>\n",
       "      <td>-8.903648e-01</td>\n",
       "      <td>-8.486401e-01</td>\n",
       "      <td>-6.915971e-01</td>\n",
       "      <td>-7.682956e-01</td>\n",
       "      <td>-5.540759e-01</td>\n",
       "      <td>-2.086297e-01</td>\n",
       "      <td>-6.430976e-01</td>\n",
       "      <td>...</td>\n",
       "      <td>-2.283949e-01</td>\n",
       "      <td>-5.423504e-01</td>\n",
       "      <td>-1.618463e-01</td>\n",
       "      <td>-3.545861e-01</td>\n",
       "      <td>-3.171451e-01</td>\n",
       "      <td>-3.269839e-01</td>\n",
       "      <td>-7.083953e-02</td>\n",
       "      <td>-5.295979e-02</td>\n",
       "      <td>5.600000</td>\n",
       "      <td>0.000000</td>\n",
       "    </tr>\n",
       "    <tr>\n",
       "      <th>50%</th>\n",
       "      <td>84692.000000</td>\n",
       "      <td>1.810880e-02</td>\n",
       "      <td>6.548556e-02</td>\n",
       "      <td>1.798463e-01</td>\n",
       "      <td>-1.984653e-02</td>\n",
       "      <td>-5.433583e-02</td>\n",
       "      <td>-2.741871e-01</td>\n",
       "      <td>4.010308e-02</td>\n",
       "      <td>2.235804e-02</td>\n",
       "      <td>-5.142873e-02</td>\n",
       "      <td>...</td>\n",
       "      <td>-2.945017e-02</td>\n",
       "      <td>6.781943e-03</td>\n",
       "      <td>-1.119293e-02</td>\n",
       "      <td>4.097606e-02</td>\n",
       "      <td>1.659350e-02</td>\n",
       "      <td>-5.213911e-02</td>\n",
       "      <td>1.342146e-03</td>\n",
       "      <td>1.124383e-02</td>\n",
       "      <td>22.000000</td>\n",
       "      <td>0.000000</td>\n",
       "    </tr>\n",
       "    <tr>\n",
       "      <th>75%</th>\n",
       "      <td>139320.500000</td>\n",
       "      <td>1.315642e+00</td>\n",
       "      <td>8.037239e-01</td>\n",
       "      <td>1.027196e+00</td>\n",
       "      <td>7.433413e-01</td>\n",
       "      <td>6.119264e-01</td>\n",
       "      <td>3.985649e-01</td>\n",
       "      <td>5.704361e-01</td>\n",
       "      <td>3.273459e-01</td>\n",
       "      <td>5.971390e-01</td>\n",
       "      <td>...</td>\n",
       "      <td>1.863772e-01</td>\n",
       "      <td>5.285536e-01</td>\n",
       "      <td>1.476421e-01</td>\n",
       "      <td>4.395266e-01</td>\n",
       "      <td>3.507156e-01</td>\n",
       "      <td>2.409522e-01</td>\n",
       "      <td>9.104512e-02</td>\n",
       "      <td>7.827995e-02</td>\n",
       "      <td>77.165000</td>\n",
       "      <td>0.000000</td>\n",
       "    </tr>\n",
       "    <tr>\n",
       "      <th>max</th>\n",
       "      <td>172792.000000</td>\n",
       "      <td>2.454930e+00</td>\n",
       "      <td>2.205773e+01</td>\n",
       "      <td>9.382558e+00</td>\n",
       "      <td>1.687534e+01</td>\n",
       "      <td>3.480167e+01</td>\n",
       "      <td>7.330163e+01</td>\n",
       "      <td>1.205895e+02</td>\n",
       "      <td>2.000721e+01</td>\n",
       "      <td>1.559499e+01</td>\n",
       "      <td>...</td>\n",
       "      <td>2.720284e+01</td>\n",
       "      <td>1.050309e+01</td>\n",
       "      <td>2.252841e+01</td>\n",
       "      <td>4.584549e+00</td>\n",
       "      <td>7.519589e+00</td>\n",
       "      <td>3.517346e+00</td>\n",
       "      <td>3.161220e+01</td>\n",
       "      <td>3.384781e+01</td>\n",
       "      <td>25691.160000</td>\n",
       "      <td>1.000000</td>\n",
       "    </tr>\n",
       "  </tbody>\n",
       "</table>\n",
       "<p>8 rows × 31 columns</p>\n",
       "</div>"
      ],
      "text/plain": [
       "                Time            V1            V2            V3            V4  \\\n",
       "count  284807.000000  2.848070e+05  2.848070e+05  2.848070e+05  2.848070e+05   \n",
       "mean    94813.859575  1.168375e-15  3.416908e-16 -1.379537e-15  2.074095e-15   \n",
       "std     47488.145955  1.958696e+00  1.651309e+00  1.516255e+00  1.415869e+00   \n",
       "min         0.000000 -5.640751e+01 -7.271573e+01 -4.832559e+01 -5.683171e+00   \n",
       "25%     54201.500000 -9.203734e-01 -5.985499e-01 -8.903648e-01 -8.486401e-01   \n",
       "50%     84692.000000  1.810880e-02  6.548556e-02  1.798463e-01 -1.984653e-02   \n",
       "75%    139320.500000  1.315642e+00  8.037239e-01  1.027196e+00  7.433413e-01   \n",
       "max    172792.000000  2.454930e+00  2.205773e+01  9.382558e+00  1.687534e+01   \n",
       "\n",
       "                 V5            V6            V7            V8            V9  \\\n",
       "count  2.848070e+05  2.848070e+05  2.848070e+05  2.848070e+05  2.848070e+05   \n",
       "mean   9.604066e-16  1.487313e-15 -5.556467e-16  1.213481e-16 -2.406331e-15   \n",
       "std    1.380247e+00  1.332271e+00  1.237094e+00  1.194353e+00  1.098632e+00   \n",
       "min   -1.137433e+02 -2.616051e+01 -4.355724e+01 -7.321672e+01 -1.343407e+01   \n",
       "25%   -6.915971e-01 -7.682956e-01 -5.540759e-01 -2.086297e-01 -6.430976e-01   \n",
       "50%   -5.433583e-02 -2.741871e-01  4.010308e-02  2.235804e-02 -5.142873e-02   \n",
       "75%    6.119264e-01  3.985649e-01  5.704361e-01  3.273459e-01  5.971390e-01   \n",
       "max    3.480167e+01  7.330163e+01  1.205895e+02  2.000721e+01  1.559499e+01   \n",
       "\n",
       "       ...           V21           V22           V23           V24  \\\n",
       "count  ...  2.848070e+05  2.848070e+05  2.848070e+05  2.848070e+05   \n",
       "mean   ...  1.654067e-16 -3.568593e-16  2.578648e-16  4.473266e-15   \n",
       "std    ...  7.345240e-01  7.257016e-01  6.244603e-01  6.056471e-01   \n",
       "min    ... -3.483038e+01 -1.093314e+01 -4.480774e+01 -2.836627e+00   \n",
       "25%    ... -2.283949e-01 -5.423504e-01 -1.618463e-01 -3.545861e-01   \n",
       "50%    ... -2.945017e-02  6.781943e-03 -1.119293e-02  4.097606e-02   \n",
       "75%    ...  1.863772e-01  5.285536e-01  1.476421e-01  4.395266e-01   \n",
       "max    ...  2.720284e+01  1.050309e+01  2.252841e+01  4.584549e+00   \n",
       "\n",
       "                V25           V26           V27           V28         Amount  \\\n",
       "count  2.848070e+05  2.848070e+05  2.848070e+05  2.848070e+05  284807.000000   \n",
       "mean   5.340915e-16  1.683437e-15 -3.660091e-16 -1.227390e-16      88.349619   \n",
       "std    5.212781e-01  4.822270e-01  4.036325e-01  3.300833e-01     250.120109   \n",
       "min   -1.029540e+01 -2.604551e+00 -2.256568e+01 -1.543008e+01       0.000000   \n",
       "25%   -3.171451e-01 -3.269839e-01 -7.083953e-02 -5.295979e-02       5.600000   \n",
       "50%    1.659350e-02 -5.213911e-02  1.342146e-03  1.124383e-02      22.000000   \n",
       "75%    3.507156e-01  2.409522e-01  9.104512e-02  7.827995e-02      77.165000   \n",
       "max    7.519589e+00  3.517346e+00  3.161220e+01  3.384781e+01   25691.160000   \n",
       "\n",
       "               Class  \n",
       "count  284807.000000  \n",
       "mean        0.001727  \n",
       "std         0.041527  \n",
       "min         0.000000  \n",
       "25%         0.000000  \n",
       "50%         0.000000  \n",
       "75%         0.000000  \n",
       "max         1.000000  \n",
       "\n",
       "[8 rows x 31 columns]"
      ]
     },
     "execution_count": 8,
     "metadata": {},
     "output_type": "execute_result"
    }
   ],
   "source": [
    "df.describe()"
   ]
  },
  {
   "cell_type": "markdown",
   "id": "56d59191-7562-4741-a7a9-2e435598f515",
   "metadata": {},
   "source": [
    "## <span style=\"color: #8be9fd\">Unique Values Checking</span>"
   ]
  },
  {
   "cell_type": "code",
   "execution_count": 9,
   "id": "1467ee9e-91da-45a3-8bc0-268968593f8b",
   "metadata": {},
   "outputs": [
    {
     "name": "stdout",
     "output_type": "stream",
     "text": [
      "Time 124592\n",
      "V1 275663\n",
      "V2 275663\n",
      "V3 275663\n",
      "V4 275663\n",
      "V5 275663\n",
      "V6 275663\n",
      "V7 275663\n",
      "V8 275663\n",
      "V9 275663\n",
      "V10 275663\n",
      "V11 275663\n",
      "V12 275663\n",
      "V13 275663\n",
      "V14 275663\n",
      "V15 275663\n",
      "V16 275663\n",
      "V17 275663\n",
      "V18 275663\n",
      "V19 275663\n",
      "V20 275663\n",
      "V21 275663\n",
      "V22 275663\n",
      "V23 275663\n",
      "V24 275663\n",
      "V25 275663\n",
      "V26 275663\n",
      "V27 275663\n",
      "V28 275663\n",
      "Amount 32767\n",
      "Class 2\n"
     ]
    }
   ],
   "source": [
    "for column in df.columns:\n",
    "    print(column, len(df[column].unique()))"
   ]
  },
  {
   "cell_type": "markdown",
   "id": "2738b4d2-0e18-4a58-9b1f-f7fa2d8f05e5",
   "metadata": {},
   "source": [
    "## <span style=\"color: #8be9fd\">Identifying Bad Columns</span>"
   ]
  },
  {
   "cell_type": "code",
   "execution_count": 10,
   "id": "bcb237c3-82c7-4850-8748-659b465a1ae4",
   "metadata": {},
   "outputs": [
    {
     "name": "stdout",
     "output_type": "stream",
     "text": [
      "Identified 0 features with atleast one null\n",
      "Identified 0 features with atleast one blank space\n",
      "Identified 0 numeric features that have quasi-constant values\n",
      "Identified 0 non-numeric features that have quasi-constant values\n"
     ]
    }
   ],
   "source": [
    "from helper_functions_comprehensive import find_bad_columns_function\n",
    "\n",
    "null_col_list, blank_space_col_list, constant_numeric_col_list, \\\n",
    "constant_non_numeric_col_list, duplicate_col_list = find_bad_columns_function(\n",
    "    df,\n",
    "    skip_duplicate_check=True\n",
    ")"
   ]
  },
  {
   "cell_type": "markdown",
   "id": "69c4d5aa-8b71-4f63-98af-6bcc3f116fca",
   "metadata": {},
   "source": [
    "# <span style=\"color: #8be9fd\">Data Cleansing</span>"
   ]
  },
  {
   "cell_type": "markdown",
   "id": "aafb6925-f09c-4b81-ab75-e68a4681a744",
   "metadata": {},
   "source": [
    "Skipping this section, because dataset is fairly clean"
   ]
  },
  {
   "cell_type": "markdown",
   "id": "30a613eb-6ee9-4813-9011-7c7453636eb3",
   "metadata": {},
   "source": [
    "**Export processed data for further iterations**"
   ]
  },
  {
   "cell_type": "code",
   "execution_count": 11,
   "id": "ddb8eb66-5cbf-4fec-ab2a-31b1549cf7bb",
   "metadata": {},
   "outputs": [],
   "source": [
    "import pickle\n",
    "\n",
    "pickle.dump(df, open(f'{intermediate_data_path}{output_df_file_name}{export_date}.pkl', 'wb'))"
   ]
  },
  {
   "cell_type": "markdown",
   "id": "87b31695-e550-4371-b26e-ee515cc845ef",
   "metadata": {},
   "source": [
    "# <span style=\"color: #8be9fd\">Modelling Workflow</span>"
   ]
  },
  {
   "cell_type": "markdown",
   "id": "91d91aac-9556-4a43-8eaa-77e844c3eda7",
   "metadata": {},
   "source": [
    "## <span style=\"color: #8be9fd\">Data Preparation</span>"
   ]
  },
  {
   "cell_type": "markdown",
   "id": "e77974dc-53b9-4bb5-8c24-e2f4fc5c03d0",
   "metadata": {},
   "source": [
    "### <span style=\"color: #8be9fd\"> Normalizing numerical variables </span>"
   ]
  },
  {
   "cell_type": "markdown",
   "id": "c4fd5fee-6e09-4a23-ac60-6013ab47cd68",
   "metadata": {},
   "source": [
    "Now that we have numerical features, can we feed it directly into a tree based model like Random Forest? Yes, even without scaling or normalizing. Scaling has the effect of squeezing all data range into a tight range but is not required for Tree-based ML models"
   ]
  },
  {
   "cell_type": "markdown",
   "id": "90755a7a-8666-47c3-bd73-c738ab03f350",
   "metadata": {},
   "source": [
    "### <span style=\"color: #8be9fd\">Feature - Target Split</span>"
   ]
  },
  {
   "cell_type": "code",
   "execution_count": 12,
   "id": "b3f6772c-6572-456a-aa40-b47fd45cc24a",
   "metadata": {},
   "outputs": [],
   "source": [
    "X = df.drop(target_class_name, axis=1)\n",
    "Y = df[target_class_name]"
   ]
  },
  {
   "cell_type": "markdown",
   "id": "dc6a9aa2-ff79-4521-8246-5678b1b0a73a",
   "metadata": {},
   "source": [
    "### <span style=\"color: #8be9fd\">Train-Test Split</span>"
   ]
  },
  {
   "cell_type": "code",
   "execution_count": 13,
   "id": "396503bd-e24c-44fb-922d-691b2fb33493",
   "metadata": {},
   "outputs": [],
   "source": [
    "from sklearn.model_selection import train_test_split\n",
    "\n",
    "X_train, X_test, Y_train, Y_test = train_test_split(X, Y, test_size=0.2, random_state=42, stratify=Y)"
   ]
  },
  {
   "cell_type": "markdown",
   "id": "bda19897-b05c-4940-95b5-12854db94d06",
   "metadata": {},
   "source": [
    "### <span style=\"color: #8be9fd\">Estimate of baseline accuracy - Class Distributions</span>"
   ]
  },
  {
   "cell_type": "code",
   "execution_count": 14,
   "id": "0e438616-3909-4eef-b3d8-395593e337f1",
   "metadata": {},
   "outputs": [
    {
     "name": "stdout",
     "output_type": "stream",
     "text": [
      "Percentage of Negative class is 99.827%\n",
      "Percentage of Positive class is 0.173%\n"
     ]
    }
   ],
   "source": [
    "print('Percentage of Negative class is {}%'.format(\n",
    "    round(df[target_class_name].value_counts()[0]/len(df) * 100, 3)\n",
    "))\n",
    "print('Percentage of Positive class is {}%'.format(\n",
    "    round(df[target_class_name].value_counts()[1]/len(df) * 100, 3)\n",
    "))"
   ]
  },
  {
   "cell_type": "code",
   "execution_count": 15,
   "id": "9e135da7-0704-4f47-8838-c49a2e79b299",
   "metadata": {},
   "outputs": [
    {
     "data": {
      "text/plain": [
       "0    284315\n",
       "1       492\n",
       "Name: Class, dtype: int64"
      ]
     },
     "execution_count": 15,
     "metadata": {},
     "output_type": "execute_result"
    },
    {
     "data": {
      "image/png": "[encoded data removed]",
      "text/plain": [
       "<Figure size 432x288 with 1 Axes>"
      ]
     },
     "metadata": {
      "needs_background": "light"
     },
     "output_type": "display_data"
    }
   ],
   "source": [
    "plt.figure(figsize=(6, 4))\n",
    "pd.value_counts(df[target_class_name]).plot.bar()\n",
    "plt.title('Histogram of class distributions')\n",
    "plt.xlabel('Churn')\n",
    "plt.xticks(rotation=0)\n",
    "plt.ylabel('Frequency')\n",
    "df[target_class_name].value_counts()"
   ]
  },
  {
   "cell_type": "markdown",
   "id": "f0e0e198-ce42-4a6f-8729-74d4b886d460",
   "metadata": {},
   "source": [
    "## <span style=\"color: #8be9fd\">Predictive Modelling</span>"
   ]
  },
  {
   "cell_type": "markdown",
   "id": "58fe989a-64aa-4f91-ba0b-631bc8625c14",
   "metadata": {},
   "source": [
    "### <span style=\"color: #8be9fd\">ML Model Fitting</span>"
   ]
  },
  {
   "cell_type": "code",
   "execution_count": 16,
   "id": "faeed5b1-ff75-4735-b0f2-7aad42c2700c",
   "metadata": {},
   "outputs": [
    {
     "data": {
      "text/plain": [
       "RandomForestClassifier(random_state=42)"
      ]
     },
     "execution_count": 16,
     "metadata": {},
     "output_type": "execute_result"
    }
   ],
   "source": [
    "from sklearn.ensemble import RandomForestClassifier\n",
    "\n",
    "classifier = RandomForestClassifier(random_state=42)\n",
    "classifier.fit(X_train, Y_train)"
   ]
  },
  {
   "cell_type": "markdown",
   "id": "8cc46950-26af-4095-8695-a2381b6c5716",
   "metadata": {},
   "source": [
    "### <span style=\"color: #8be9fd\">Model Performance Metrics</span>"
   ]
  },
  {
   "cell_type": "code",
   "execution_count": 17,
   "id": "2c9daa18-d33c-40e7-b2e2-989981ad0306",
   "metadata": {},
   "outputs": [
    {
     "name": "stdout",
     "output_type": "stream",
     "text": [
      "Has a Train accuracy of 100.0 % \n",
      "              precision    recall  f1-score   support\n",
      "\n",
      "   Non-Fraud       1.00      1.00      1.00    227451\n",
      "       Fraud       1.00      1.00      1.00       394\n",
      "\n",
      "    accuracy                           1.00    227845\n",
      "   macro avg       1.00      1.00      1.00    227845\n",
      "weighted avg       1.00      1.00      1.00    227845\n",
      "\n",
      "The ROC AUC Score on Train set is 1.0\n",
      "Confusion matrix, without normalization\n",
      "[[227451      0]\n",
      " [     0    394]]\n"
     ]
    },
    {
     "data": {
      "image/png": "[encoded data removed]",
      "text/plain": [
       "<Figure size 720x432 with 1 Axes>"
      ]
     },
     "metadata": {
      "needs_background": "light"
     },
     "output_type": "display_data"
    },
    {
     "data": {
      "image/png": "[encoded data removed]",
      "text/plain": [
       "<Figure size 576x288 with 2 Axes>"
      ]
     },
     "metadata": {
      "needs_background": "light"
     },
     "output_type": "display_data"
    }
   ],
   "source": [
    "from helper_functions_comprehensive import custom_classification_metrics_function\n",
    "\n",
    "custom_classification_metrics_function(X_train, Y_train, labels, classifier, data_type='Train')"
   ]
  },
  {
   "cell_type": "code",
   "execution_count": 18,
   "id": "553a687b-ca6f-46f4-8f80-58053354ba2f",
   "metadata": {},
   "outputs": [
    {
     "name": "stdout",
     "output_type": "stream",
     "text": [
      "Has a Test accuracy of 100.0 % \n",
      "              precision    recall  f1-score   support\n",
      "\n",
      "   Non-Fraud       1.00      1.00      1.00     56864\n",
      "       Fraud       0.94      0.82      0.87        98\n",
      "\n",
      "    accuracy                           1.00     56962\n",
      "   macro avg       0.97      0.91      0.94     56962\n",
      "weighted avg       1.00      1.00      1.00     56962\n",
      "\n",
      "The ROC AUC Score on Test set is 0.96\n",
      "Confusion matrix, without normalization\n",
      "[[56859     5]\n",
      " [   18    80]]\n"
     ]
    },
    {
     "data": {
      "image/png": "[encoded data removed]",
      "text/plain": [
       "<Figure size 720x432 with 1 Axes>"
      ]
     },
     "metadata": {
      "needs_background": "light"
     },
     "output_type": "display_data"
    },
    {
     "data": {
      "image/png": "[encoded data removed]",
      "text/plain": [
       "<Figure size 576x288 with 2 Axes>"
      ]
     },
     "metadata": {
      "needs_background": "light"
     },
     "output_type": "display_data"
    }
   ],
   "source": [
    "custom_classification_metrics_function(X_test, Y_test, labels, classifier, data_type='Test')"
   ]
  },
  {
   "cell_type": "markdown",
   "id": "d79d9419-983a-4bf2-88a4-e4363319b83f",
   "metadata": {},
   "source": [
    "### <span style=\"color: #8be9fd\">Performance Metrics for Imbalanced Datasets</span>"
   ]
  },
  {
   "cell_type": "code",
   "execution_count": 19,
   "id": "2ed46acc-63cc-46c9-a318-d9bf0febc51a",
   "metadata": {},
   "outputs": [
    {
     "data": {
      "text/plain": [
       "0.9333333333333333"
      ]
     },
     "execution_count": 19,
     "metadata": {},
     "output_type": "execute_result"
    }
   ],
   "source": [
    "from helper_functions_comprehensive import precision_at_recall_threshold_function\n",
    "\n",
    "predicted_proba = classifier.predict_proba(X_test)[:,1]\n",
    "precision_at_recall_threshold_function(Y_test, predicted_proba, recall_threshold=0.85)"
   ]
  },
  {
   "cell_type": "markdown",
   "id": "16abab1c-13c9-4ffd-a3ad-ca418e959d6b",
   "metadata": {},
   "source": [
    "### <span style=\"color: #8be9fd\">Visualize Class Separation</span>"
   ]
  },
  {
   "cell_type": "code",
   "execution_count": 20,
   "id": "dac8f365-433e-4d7e-b9ca-fe61a2bab6df",
   "metadata": {},
   "outputs": [
    {
     "name": "stdout",
     "output_type": "stream",
     "text": [
      "CPU times: user 2h 17min 52s, sys: 24min 46s, total: 2h 42min 39s\n",
      "Wall time: 1h 39min 18s\n"
     ]
    }
   ],
   "source": [
    "%%time\n",
    "\n",
    "from sklearn.manifold import TSNE\n",
    "X_reduced_tsne = TSNE(n_components=2, random_state=42).fit_transform(X.values)\n",
    "\n",
    "from sklearn.decomposition import PCA, TruncatedSVD\n",
    "X_reduced_pca = PCA(n_components=2, random_state=42).fit_transform(X.values)\n",
    "\n",
    "X_reduced_svd = TruncatedSVD(\n",
    "    n_components=2, algorithm='randomized', random_state=42\n",
    ").fit_transform(X.values)"
   ]
  },
  {
   "cell_type": "code",
   "execution_count": 24,
   "id": "67fdd57f-4890-4c19-9647-8175ae06ac01",
   "metadata": {},
   "outputs": [
    {
     "data": {
      "image/png": "[encoded data removed]",
      "text/plain": [
       "<Figure size 1728x432 with 3 Axes>"
      ]
     },
     "metadata": {
      "needs_background": "light"
     },
     "output_type": "display_data"
    }
   ],
   "source": [
    "import matplotlib.patches as mpatches\n",
    "\n",
    "f, (ax1, ax2, ax3) = plt.subplots(1, 3, figsize=(24, 6))\n",
    "f.suptitle('Clusters using Dimensionality Reduction', fontsize=14)\n",
    "\n",
    "blue_patch = mpatches.Patch(color='#0A0AFF', label=labels[0])\n",
    "red_patch = mpatches.Patch(color='#AF0000', label=labels[1])\n",
    "\n",
    "# TSNE scatter plot\n",
    "ax1.scatter(\n",
    "    X_reduced_tsne[:,0],\n",
    "    X_reduced_tsne[:,1],\n",
    "    c=(Y == 0),\n",
    "    cmap='coolwarm',\n",
    "    label=labels[0],\n",
    "    linewidth=2,\n",
    ")\n",
    "\n",
    "ax1.scatter(\n",
    "    X_reduced_tsne[:,0],\n",
    "    X_reduced_tsne[:,1],\n",
    "    c=(Y == 1),\n",
    "    cmap='coolwarm',\n",
    "    label=labels[1],\n",
    "    linewidth=2,\n",
    ")\n",
    "\n",
    "ax1.set_title('t-SNE', fontsize=14)\n",
    "ax1.grid(True)\n",
    "ax1.legend(handles=[blue_patch, red_patch])\n",
    "\n",
    "# PCA scatter plot\n",
    "ax2.scatter(\n",
    "    X_reduced_pca[:,0],\n",
    "    X_reduced_pca[:,1],\n",
    "    c=(Y == 0),\n",
    "    cmap='coolwarm',\n",
    "    label=labels[0],\n",
    "    linewidth=2,\n",
    ")\n",
    "\n",
    "ax2.scatter(\n",
    "    X_reduced_pca[:,0],\n",
    "    X_reduced_pca[:,1],\n",
    "    c=(Y == 1),\n",
    "    cmap='coolwarm',\n",
    "    label=labels[1],\n",
    "    linewidth=2,\n",
    ")\n",
    "\n",
    "ax2.set_title('PCA', fontsize=14)\n",
    "ax2.grid(True)\n",
    "ax2.legend(handles=[blue_patch, red_patch])\n",
    "\n",
    "# TruncatedSVD scatter plot\n",
    "ax3.scatter(\n",
    "    X_reduced_svd[:,0],\n",
    "    X_reduced_svd[:,1],\n",
    "    c=(Y == 0),\n",
    "    cmap='coolwarm',\n",
    "    label=labels[0],\n",
    "    linewidth=2,\n",
    ")\n",
    "\n",
    "ax3.scatter(\n",
    "    X_reduced_svd[:,0],\n",
    "    X_reduced_svd[:,1],\n",
    "    c=(Y == 1),\n",
    "    cmap='coolwarm',\n",
    "    label=labels[1],\n",
    "    linewidth=2,\n",
    ")\n",
    "\n",
    "ax3.set_title('Truncated SVD', fontsize=14)\n",
    "ax3.grid(True)\n",
    "ax3.legend(handles=[blue_patch, red_patch])\n",
    "\n",
    "plt.show()"
   ]
  },
  {
   "cell_type": "code",
   "execution_count": null,
   "id": "98003cf6-f9f8-4e3e-bbd7-0b738a0aae28",
   "metadata": {},
   "outputs": [],
   "source": []
  }
 ],
 "metadata": {
  "kernelspec": {
   "display_name": "Python 3",
   "language": "python",
   "name": "python3"
  },
  "language_info": {
   "codemirror_mode": {
    "name": "ipython",
    "version": 3
   },
   "file_extension": ".py",
   "mimetype": "text/x-python",
   "name": "python",
   "nbconvert_exporter": "python",
   "pygments_lexer": "ipython3",
   "version": "3.8.5"
  }
 },
 "nbformat": 4,
 "nbformat_minor": 5
}
